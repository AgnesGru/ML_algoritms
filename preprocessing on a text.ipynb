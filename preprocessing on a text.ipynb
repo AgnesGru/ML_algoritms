{
 "cells": [
  {
   "cell_type": "code",
   "execution_count": 1,
   "metadata": {},
   "outputs": [],
   "source": [
    "import nltk\n",
    "import pandas as pd\n",
    "import numpy as np\n",
    "import re \n",
    "import string\n",
    "from nltk.corpus import stopwords"
   ]
  },
  {
   "cell_type": "code",
   "execution_count": 2,
   "metadata": {},
   "outputs": [],
   "source": [
    "text = \"\"\"Both versions convey a topic; it’s pretty easy to predict that the paragraph will be about epidemiological \n",
    "evidence, but only the second version establishes an argumentative point and puts it in context. The paragraph doesn’t \n",
    "just describe the epidemiological evidence; it shows how epidemiology is telling the same story as etiology. Similarly, \n",
    "while Version A doesn’t relate to anything in particular, Version B immediately suggests that the prior paragraph addresses \n",
    "the biological pathway (i.e. etiology) of a disease and that the new paragraph will bolster the emerging hypothesis with a\n",
    "different kind of evidence. As a reader, it’s easy to keep track of how the paragraph about cells and chemicals and such \n",
    "relates to the paragraph about populations in different places. A last thing to note about key sentences is that academic \n",
    "readers expect them to be at the beginning of the paragraph. (The first sentence this paragraph is a good example of this \n",
    "in action!) This placement helps readers comprehend your argument. To see how, try this: find an academic piece (such as a \n",
    "textbook or scholarly article) that strikes you as well written and go through part of it reading just the first sentence of \n",
    "each paragraph. You should be able to easily follow the sequence of logic. When you’re writing for professors, it is especially \n",
    "effective to put your key sentences first because they usually convey your own original thinking. It’s a very good sign when\n",
    "your paragraphs are typically composed of a telling key sentence followed by evidence and explanation.\n",
    "Knowing this convention of academic writing can help you both read and write more effectively. When you’re reading a \n",
    "complicated academic piece for the first time, you might want to go through reading only the first sentence or two of each \n",
    "paragraph to get the overall outline of the argument. Then you can go back and read all of it with a clearer picture of how \n",
    "each of the details fit in. And when you’re writing, you may also find it useful to write the first sentence of each paragraph \n",
    "(instead of a topic-based outline) to map out a thorough argument before getting immersed in sentence-level wordsmithing.\"\"\""
   ]
  },
  {
   "cell_type": "code",
   "execution_count": 3,
   "metadata": {},
   "outputs": [],
   "source": [
    "def clean_text(text):    \n",
    "    text = text.lower()\n",
    "    text = re.sub(r'[\\?;,:*)(“”]*', '', text) # replacement of what in the square bracket\n",
    "    text = re.sub('\\w*\\d\\w*', '', text)# remove digits\n",
    "    return text"
   ]
  },
  {
   "cell_type": "code",
   "execution_count": 5,
   "metadata": {},
   "outputs": [],
   "source": [
    "text = clean_text(text)\n",
    "# text # już trochę obczyszczony"
   ]
  },
  {
   "cell_type": "markdown",
   "metadata": {},
   "source": [
    "#### Zmień text na listę zdań"
   ]
  },
  {
   "cell_type": "code",
   "execution_count": 6,
   "metadata": {},
   "outputs": [
    {
     "data": {
      "text/plain": [
       "16"
      ]
     },
     "execution_count": 6,
     "metadata": {},
     "output_type": "execute_result"
    }
   ],
   "source": [
    "list_of_sentences = nltk.tokenize.sent_tokenize(text)\n",
    "# print(list_of_sentences)\n",
    "len(list_of_sentences)"
   ]
  },
  {
   "cell_type": "markdown",
   "metadata": {},
   "source": [
    "#### Zmień text na listę wyrazów"
   ]
  },
  {
   "cell_type": "code",
   "execution_count": 7,
   "metadata": {},
   "outputs": [],
   "source": [
    "# list_of_words = [nltk.word_tokenize(sent) for sent in list_of_sentences] # lista list wyrazów\n",
    "# print(list_of_words)"
   ]
  },
  {
   "cell_type": "markdown",
   "metadata": {},
   "source": [
    "#### Funkcja czyszcząca stosowana dla textu"
   ]
  },
  {
   "cell_type": "code",
   "execution_count": 7,
   "metadata": {},
   "outputs": [],
   "source": [
    "def clean_text(text):    \n",
    "    text = text.lower()\n",
    "    text = re.sub(r'[\\?,*]*', '', text) # replacement of what in the square bracket\n",
    "#     text = re.sub('[%s]' % re.escape(string.punctuation), '', text) # remove all punctuation\n",
    "    text = re.sub('\\w*\\d\\w*', '', text)# remove digits\n",
    "    text = re.sub('[‘’“”…]', '', text)\n",
    "#     text = re.sub('\\n', '', text)\n",
    "#     text = re.sub(re.compile(r'\\W*\\b\\w{1,3}\\b'), \"\", text) #remove short words\n",
    "    text = text.split()\n",
    "    text = [word for word in text if not word in stopwords.words('english')]\n",
    "    text = ' '.join(text)\n",
    "    return text"
   ]
  },
  {
   "cell_type": "code",
   "execution_count": 11,
   "metadata": {},
   "outputs": [],
   "source": [
    "text_clean = clean_text(text)\n",
    "# text_clean"
   ]
  },
  {
   "cell_type": "code",
   "execution_count": 51,
   "metadata": {},
   "outputs": [
    {
     "data": {
      "text/plain": [
       "['versions convey topic pretty easy predict paragraph epidemiological evidence second version establishes argumentative point puts context.',\n",
       " 'paragraph doesnt describe epidemiological evidence shows epidemiology telling story etiology.',\n",
       " 'similarly version doesnt relate anything particular version b immediately suggests prior paragraph addresses biological pathway i.e.',\n",
       " 'etiology disease new paragraph bolster emerging hypothesis different kind evidence.',\n",
       " 'reader easy keep track paragraph cells chemicals relates paragraph populations different places.',\n",
       " 'last thing note key sentences academic readers expect beginning paragraph.',\n",
       " 'first sentence paragraph good example action!',\n",
       " 'placement helps readers comprehend argument.',\n",
       " 'see try find academic piece textbook scholarly article strikes well written go part reading first sentence paragraph.',\n",
       " 'able easily follow sequence logic.',\n",
       " 'youre writing professors especially effective put key sentences first usually convey original thinking.',\n",
       " 'good sign paragraphs typically composed telling key sentence followed evidence explanation.',\n",
       " 'knowing convention academic writing help read write effectively.',\n",
       " 'youre reading complicated academic piece first time might want go reading first sentence two paragraph get overall outline argument.',\n",
       " 'go back read clearer picture details fit in.',\n",
       " 'youre writing may also find useful write first sentence paragraph instead topic-based outline map thorough argument getting immersed sentence-level wordsmithing.']"
      ]
     },
     "execution_count": 51,
     "metadata": {},
     "output_type": "execute_result"
    }
   ],
   "source": [
    "clean_sentences = nltk.tokenize.sent_tokenize(text_clean)\n",
    "len(clean_sentences)\n",
    "clean_sentences"
   ]
  },
  {
   "cell_type": "code",
   "execution_count": 52,
   "metadata": {},
   "outputs": [],
   "source": [
    "list_of_numbers = [\"one\", \"two\", \"three\", \"foru\", \"five\", \"six\", \"seven\", \"eight\", \"nine\", \"ten\", \"eleven\", \"twelve\"]"
   ]
  },
  {
   "cell_type": "code",
   "execution_count": 63,
   "metadata": {},
   "outputs": [
    {
     "data": {
      "text/plain": [
       "{'one': 'versions convey topic pretty easy predict paragraph epidemiological evidence second version establishes argumentative point puts context.',\n",
       " 'two': 'paragraph doesnt describe epidemiological evidence shows epidemiology telling story etiology.',\n",
       " 'three': 'similarly version doesnt relate anything particular version b immediately suggests prior paragraph addresses biological pathway i.e.',\n",
       " 'foru': 'etiology disease new paragraph bolster emerging hypothesis different kind evidence.',\n",
       " 'five': 'reader easy keep track paragraph cells chemicals relates paragraph populations different places.',\n",
       " 'six': 'last thing note key sentences academic readers expect beginning paragraph.',\n",
       " 'seven': 'first sentence paragraph good example action!',\n",
       " 'eight': 'placement helps readers comprehend argument.',\n",
       " 'nine': 'see try find academic piece textbook scholarly article strikes well written go part reading first sentence paragraph.',\n",
       " 'ten': 'able easily follow sequence logic.',\n",
       " 'eleven': 'youre writing professors especially effective put key sentences first usually convey original thinking.',\n",
       " 'twelve': 'good sign paragraphs typically composed telling key sentence followed evidence explanation.'}"
      ]
     },
     "execution_count": 63,
     "metadata": {},
     "output_type": "execute_result"
    }
   ],
   "source": [
    "zipped_list = list(zip(list_of_numbers, clean_sentences))\n",
    "dict_zipped = dict(zipped_list)\n",
    "dict_zipped"
   ]
  },
  {
   "cell_type": "code",
   "execution_count": 65,
   "metadata": {},
   "outputs": [
    {
     "data": {
      "text/plain": [
       "'first sentence paragraph good example action!'"
      ]
     },
     "execution_count": 65,
     "metadata": {},
     "output_type": "execute_result"
    }
   ],
   "source": [
    "dict_zipped['seven']"
   ]
  },
  {
   "cell_type": "code",
   "execution_count": 67,
   "metadata": {},
   "outputs": [
    {
     "data": {
      "text/html": [
       "<div>\n",
       "<style scoped>\n",
       "    .dataframe tbody tr th:only-of-type {\n",
       "        vertical-align: middle;\n",
       "    }\n",
       "\n",
       "    .dataframe tbody tr th {\n",
       "        vertical-align: top;\n",
       "    }\n",
       "\n",
       "    .dataframe thead th {\n",
       "        text-align: right;\n",
       "    }\n",
       "</style>\n",
       "<table border=\"1\" class=\"dataframe\">\n",
       "  <thead>\n",
       "    <tr style=\"text-align: right;\">\n",
       "      <th></th>\n",
       "      <th>text</th>\n",
       "    </tr>\n",
       "  </thead>\n",
       "  <tbody>\n",
       "    <tr>\n",
       "      <th>one</th>\n",
       "      <td>versions convey topic pretty easy predict para...</td>\n",
       "    </tr>\n",
       "    <tr>\n",
       "      <th>two</th>\n",
       "      <td>paragraph doesnt describe epidemiological evid...</td>\n",
       "    </tr>\n",
       "    <tr>\n",
       "      <th>three</th>\n",
       "      <td>similarly version doesnt relate anything parti...</td>\n",
       "    </tr>\n",
       "    <tr>\n",
       "      <th>foru</th>\n",
       "      <td>etiology disease new paragraph bolster emergin...</td>\n",
       "    </tr>\n",
       "    <tr>\n",
       "      <th>five</th>\n",
       "      <td>reader easy keep track paragraph cells chemica...</td>\n",
       "    </tr>\n",
       "    <tr>\n",
       "      <th>six</th>\n",
       "      <td>last thing note key sentences academic readers...</td>\n",
       "    </tr>\n",
       "    <tr>\n",
       "      <th>seven</th>\n",
       "      <td>first sentence paragraph good example action!</td>\n",
       "    </tr>\n",
       "    <tr>\n",
       "      <th>eight</th>\n",
       "      <td>placement helps readers comprehend argument.</td>\n",
       "    </tr>\n",
       "    <tr>\n",
       "      <th>nine</th>\n",
       "      <td>see try find academic piece textbook scholarly...</td>\n",
       "    </tr>\n",
       "    <tr>\n",
       "      <th>ten</th>\n",
       "      <td>able easily follow sequence logic.</td>\n",
       "    </tr>\n",
       "    <tr>\n",
       "      <th>eleven</th>\n",
       "      <td>youre writing professors especially effective ...</td>\n",
       "    </tr>\n",
       "    <tr>\n",
       "      <th>twelve</th>\n",
       "      <td>good sign paragraphs typically composed tellin...</td>\n",
       "    </tr>\n",
       "  </tbody>\n",
       "</table>\n",
       "</div>"
      ],
      "text/plain": [
       "                                                     text\n",
       "one     versions convey topic pretty easy predict para...\n",
       "two     paragraph doesnt describe epidemiological evid...\n",
       "three   similarly version doesnt relate anything parti...\n",
       "foru    etiology disease new paragraph bolster emergin...\n",
       "five    reader easy keep track paragraph cells chemica...\n",
       "six     last thing note key sentences academic readers...\n",
       "seven       first sentence paragraph good example action!\n",
       "eight        placement helps readers comprehend argument.\n",
       "nine    see try find academic piece textbook scholarly...\n",
       "ten                    able easily follow sequence logic.\n",
       "eleven  youre writing professors especially effective ...\n",
       "twelve  good sign paragraphs typically composed tellin..."
      ]
     },
     "execution_count": 67,
     "metadata": {},
     "output_type": "execute_result"
    }
   ],
   "source": [
    "data_df = pd.DataFrame.from_dict(dict_zipped, orient='index', columns = ['text']) # to to samo co '.transpose'\n",
    "data_df"
   ]
  },
  {
   "cell_type": "code",
   "execution_count": 68,
   "metadata": {},
   "outputs": [
    {
     "data": {
      "text/html": [
       "<div>\n",
       "<style scoped>\n",
       "    .dataframe tbody tr th:only-of-type {\n",
       "        vertical-align: middle;\n",
       "    }\n",
       "\n",
       "    .dataframe tbody tr th {\n",
       "        vertical-align: top;\n",
       "    }\n",
       "\n",
       "    .dataframe thead th {\n",
       "        text-align: right;\n",
       "    }\n",
       "</style>\n",
       "<table border=\"1\" class=\"dataframe\">\n",
       "  <thead>\n",
       "    <tr style=\"text-align: right;\">\n",
       "      <th></th>\n",
       "      <th>text</th>\n",
       "      <th>full_name</th>\n",
       "    </tr>\n",
       "  </thead>\n",
       "  <tbody>\n",
       "    <tr>\n",
       "      <th>one</th>\n",
       "      <td>versions convey topic pretty easy predict para...</td>\n",
       "      <td>Ali Wong</td>\n",
       "    </tr>\n",
       "    <tr>\n",
       "      <th>two</th>\n",
       "      <td>paragraph doesnt describe epidemiological evid...</td>\n",
       "      <td>Anthony Jeselnik</td>\n",
       "    </tr>\n",
       "    <tr>\n",
       "      <th>three</th>\n",
       "      <td>similarly version doesnt relate anything parti...</td>\n",
       "      <td>Bill Burr</td>\n",
       "    </tr>\n",
       "    <tr>\n",
       "      <th>foru</th>\n",
       "      <td>etiology disease new paragraph bolster emergin...</td>\n",
       "      <td>Bo Burnham</td>\n",
       "    </tr>\n",
       "    <tr>\n",
       "      <th>five</th>\n",
       "      <td>reader easy keep track paragraph cells chemica...</td>\n",
       "      <td>Dave Chappelle</td>\n",
       "    </tr>\n",
       "    <tr>\n",
       "      <th>six</th>\n",
       "      <td>last thing note key sentences academic readers...</td>\n",
       "      <td>Hasan Minhaj</td>\n",
       "    </tr>\n",
       "    <tr>\n",
       "      <th>seven</th>\n",
       "      <td>first sentence paragraph good example action!</td>\n",
       "      <td>Jim Jefferies</td>\n",
       "    </tr>\n",
       "    <tr>\n",
       "      <th>eight</th>\n",
       "      <td>placement helps readers comprehend argument.</td>\n",
       "      <td>Joe Rogan</td>\n",
       "    </tr>\n",
       "    <tr>\n",
       "      <th>nine</th>\n",
       "      <td>see try find academic piece textbook scholarly...</td>\n",
       "      <td>John Mulaney</td>\n",
       "    </tr>\n",
       "    <tr>\n",
       "      <th>ten</th>\n",
       "      <td>able easily follow sequence logic.</td>\n",
       "      <td>Louis C.K.</td>\n",
       "    </tr>\n",
       "    <tr>\n",
       "      <th>eleven</th>\n",
       "      <td>youre writing professors especially effective ...</td>\n",
       "      <td>Mike Birbiglia</td>\n",
       "    </tr>\n",
       "    <tr>\n",
       "      <th>twelve</th>\n",
       "      <td>good sign paragraphs typically composed tellin...</td>\n",
       "      <td>Ricky Gervais</td>\n",
       "    </tr>\n",
       "  </tbody>\n",
       "</table>\n",
       "</div>"
      ],
      "text/plain": [
       "                                                     text         full_name\n",
       "one     versions convey topic pretty easy predict para...          Ali Wong\n",
       "two     paragraph doesnt describe epidemiological evid...  Anthony Jeselnik\n",
       "three   similarly version doesnt relate anything parti...         Bill Burr\n",
       "foru    etiology disease new paragraph bolster emergin...        Bo Burnham\n",
       "five    reader easy keep track paragraph cells chemica...    Dave Chappelle\n",
       "six     last thing note key sentences academic readers...      Hasan Minhaj\n",
       "seven       first sentence paragraph good example action!     Jim Jefferies\n",
       "eight        placement helps readers comprehend argument.         Joe Rogan\n",
       "nine    see try find academic piece textbook scholarly...      John Mulaney\n",
       "ten                    able easily follow sequence logic.        Louis C.K.\n",
       "eleven  youre writing professors especially effective ...    Mike Birbiglia\n",
       "twelve  good sign paragraphs typically composed tellin...     Ricky Gervais"
      ]
     },
     "execution_count": 68,
     "metadata": {},
     "output_type": "execute_result"
    }
   ],
   "source": [
    "full_names = ['Ali Wong', 'Anthony Jeselnik', 'Bill Burr', 'Bo Burnham', 'Dave Chappelle', 'Hasan Minhaj',\n",
    "              'Jim Jefferies', 'Joe Rogan', 'John Mulaney', 'Louis C.K.', 'Mike Birbiglia', 'Ricky Gervais']\n",
    "\n",
    "data_df['full_name'] = full_names\n",
    "data_df"
   ]
  },
  {
   "cell_type": "markdown",
   "metadata": {},
   "source": [
    "#### Lematyzacja"
   ]
  },
  {
   "cell_type": "code",
   "execution_count": 14,
   "metadata": {},
   "outputs": [],
   "source": [
    "from nltk.stem import WordNetLemmatizer\n",
    "from nltk.corpus import stopwords"
   ]
  },
  {
   "cell_type": "code",
   "execution_count": 49,
   "metadata": {},
   "outputs": [],
   "source": [
    "lemmatizer = WordNetLemmatizer()"
   ]
  },
  {
   "cell_type": "code",
   "execution_count": 50,
   "metadata": {},
   "outputs": [],
   "source": [
    "for sent in range(len(list_of_sentences)):\n",
    "    words = nltk.tokenize.word_tokenize(list_of_sentences[sent])\n",
    "    words = [lemmatizer.lemmatize(word) for word in words if word not in stopwords.words('english')]\n",
    "    list_of_sentences[sent] = ' '.join(words)\n",
    "    \n",
    "\n",
    "# print(list_of_sentences[:5])"
   ]
  },
  {
   "cell_type": "markdown",
   "metadata": {},
   "source": [
    "#### Stemming"
   ]
  },
  {
   "cell_type": "code",
   "execution_count": 22,
   "metadata": {},
   "outputs": [],
   "source": [
    "from nltk.stem.porter import PorterStemmer\n",
    "\n",
    "porter = PorterStemmer()\n",
    "stemmed = [porter.stem(word) for word in nltk.tokenize.word_tokenize(text) if word not in stopwords.words('english')] # lista stemowanych słów\n",
    "# print(stemmed)"
   ]
  },
  {
   "cell_type": "code",
   "execution_count": 23,
   "metadata": {},
   "outputs": [
    {
     "data": {
      "text/plain": [
       "'version convey topic ’ pretti easi predict paragraph epidemiolog evid second version establish argument point put context . paragraph ’ describ epidemiolog evid show epidemiolog tell stori etiolog . similarli version ’ relat anyth particular version b immedi suggest prior paragraph address biolog pathway i.e . etiolog diseas new paragraph bolster emerg hypothesi differ kind evid . reader ’ easi keep track paragraph cell chemic relat paragraph popul differ place . last thing note key sentenc academ reader expect begin paragraph . first sentenc paragraph good exampl action ! placement help reader comprehend argument . see tri find academ piec textbook scholarli articl strike well written go part read first sentenc paragraph . abl easili follow sequenc logic . ’ write professor especi effect put key sentenc first usual convey origin think . ’ good sign paragraph typic compos tell key sentenc follow evid explan . know convent academ write help read write effect . ’ read complic academ piec first time might want go read first sentenc two paragraph get overal outlin argument . go back read clearer pictur detail fit . ’ write may also find use write first sentenc paragraph instead topic-bas outlin map thorough argument get immers sentence-level wordsmith .'"
      ]
     },
     "execution_count": 23,
     "metadata": {},
     "output_type": "execute_result"
    }
   ],
   "source": [
    "stemmed_text = ' '.join(stemmed)\n",
    "stemmed_text"
   ]
  },
  {
   "cell_type": "markdown",
   "metadata": {},
   "source": [
    "#### Bag of words"
   ]
  },
  {
   "cell_type": "code",
   "execution_count": 24,
   "metadata": {},
   "outputs": [],
   "source": [
    "from sklearn.feature_extraction.text import CountVectorizer"
   ]
  },
  {
   "cell_type": "code",
   "execution_count": 28,
   "metadata": {},
   "outputs": [
    {
     "name": "stdout",
     "output_type": "stream",
     "text": [
      "123\n",
      "(16, 123)\n",
      "[[0 0 0 ... 0 0 0]\n",
      " [0 0 0 ... 0 0 0]\n",
      " [0 0 0 ... 0 0 0]\n",
      " ...\n",
      " [0 1 0 ... 0 0 1]\n",
      " [0 0 0 ... 0 0 0]\n",
      " [0 0 0 ... 1 0 1]]\n"
     ]
    }
   ],
   "source": [
    "cv = CountVectorizer()\n",
    "x = cv.fit_transform(list_lematized).toarray()\n",
    "# print(cv.get_feature_names())  # all unique words\n",
    "print(x.shape)\n",
    "print(x)"
   ]
  },
  {
   "cell_type": "code",
   "execution_count": 31,
   "metadata": {},
   "outputs": [
    {
     "name": "stdout",
     "output_type": "stream",
     "text": [
      "(16, 158)\n"
     ]
    }
   ],
   "source": [
    "cv2 = CountVectorizer(analyzer='word', ngram_range=(2, 2))\n",
    "x2 = cv2.fit_transform(list_lematized).toarray()\n",
    "# print(cv2.get_feature_names())\n",
    "print(x2.shape)"
   ]
  },
  {
   "cell_type": "markdown",
   "metadata": {},
   "source": [
    "### TF-IDF"
   ]
  },
  {
   "cell_type": "code",
   "execution_count": 33,
   "metadata": {},
   "outputs": [],
   "source": [
    "from sklearn.feature_extraction.text import TfidfVectorizer"
   ]
  },
  {
   "cell_type": "code",
   "execution_count": 34,
   "metadata": {},
   "outputs": [
    {
     "name": "stdout",
     "output_type": "stream",
     "text": [
      "[[0.         0.         0.         ... 0.         0.         0.        ]\n",
      " [0.         0.         0.         ... 0.         0.         0.        ]\n",
      " [0.         0.         0.         ... 0.         0.         0.        ]\n",
      " ...\n",
      " [0.         0.17671311 0.         ... 0.         0.         0.1944453 ]\n",
      " [0.         0.         0.         ... 0.         0.         0.        ]\n",
      " [0.         0.         0.         ... 0.1851693  0.         0.1851693 ]]\n"
     ]
    }
   ],
   "source": [
    "vectorizer = TfidfVectorizer()\n",
    "x = vectorizer.fit_transform(list_lematized).toarray()\n",
    "print(x)"
   ]
  },
  {
   "cell_type": "markdown",
   "metadata": {},
   "source": [
    "#### Word2Vec"
   ]
  },
  {
   "cell_type": "code",
   "execution_count": 43,
   "metadata": {},
   "outputs": [],
   "source": [
    "from gensim.models import Word2Vec"
   ]
  },
  {
   "cell_type": "code",
   "execution_count": 40,
   "metadata": {},
   "outputs": [
    {
     "data": {
      "text/plain": [
       "[['version',\n",
       "  'convey',\n",
       "  'topic',\n",
       "  'pretty',\n",
       "  'easy',\n",
       "  'predict',\n",
       "  'paragraph',\n",
       "  'epidemiological',\n",
       "  'evidence',\n",
       "  'second',\n",
       "  'version',\n",
       "  'establishes',\n",
       "  'argumentative',\n",
       "  'point',\n",
       "  'put',\n",
       "  'context',\n",
       "  '.']]"
      ]
     },
     "execution_count": 40,
     "metadata": {},
     "output_type": "execute_result"
    }
   ],
   "source": [
    "clean_sentences = [nltk.tokenize.word_tokenize(sent) for sent in list_lematized]\n",
    "clean_sentences[:1]"
   ]
  },
  {
   "cell_type": "code",
   "execution_count": 41,
   "metadata": {},
   "outputs": [],
   "source": [
    "# for i in range(len(clean_sentences)):\n",
    "#     clean_sentences[i] = [word for word in clean_sentences[i]]\n",
    "    \n",
    "# clean_sentences[:2]"
   ]
  },
  {
   "cell_type": "code",
   "execution_count": 44,
   "metadata": {},
   "outputs": [],
   "source": [
    "model = Word2Vec(clean_sentences, min_count = 1)"
   ]
  },
  {
   "cell_type": "code",
   "execution_count": 48,
   "metadata": {},
   "outputs": [
    {
     "data": {
      "text/plain": [
       "dict_keys(['version', 'convey', 'topic', 'pretty', 'easy', 'predict', 'paragraph', 'epidemiological', 'evidence', 'second', 'establishes', 'argumentative', 'point', 'put', 'context', '.', 'doesnt', 'describe', 'show', 'epidemiology', 'telling', 'story', 'etiology', 'similarly', 'relate', 'anything', 'particular', 'b', 'immediately', 'suggests', 'prior', 'address', 'biological', 'pathway', 'i.e', 'disease', 'new', 'bolster', 'emerging', 'hypothesis', 'different', 'kind', 'reader', 'keep', 'track', 'cell', 'chemical', 'relates', 'population', 'place', 'last', 'thing', 'note', 'key', 'sentence', 'academic', 'expect', 'beginning', 'first', 'good', 'example', 'action', '!', 'placement', 'help', 'comprehend', 'argument', 'see', 'try', 'find', 'piece', 'textbook', 'scholarly', 'article', 'strike', 'well', 'written', 'go', 'part', 'reading', 'able', 'easily', 'follow', 'sequence', 'logic', 'youre', 'writing', 'professor', 'especially', 'effective', 'usually', 'original', 'thinking', 'sign', 'typically', 'composed', 'followed', 'explanation', 'knowing', 'convention', 'read', 'write', 'effectively', 'complicated', 'time', 'might', 'want', 'two', 'get', 'overall', 'outline', 'back', 'clearer', 'picture', 'detail', 'fit', 'may', 'also', 'useful', 'instead', 'topic-based', 'map', 'thorough', 'getting', 'immersed', 'sentence-level', 'wordsmithing'])"
      ]
     },
     "execution_count": 48,
     "metadata": {},
     "output_type": "execute_result"
    }
   ],
   "source": [
    "words = model.wv.vocab\n",
    "words.keys()"
   ]
  },
  {
   "cell_type": "code",
   "execution_count": 46,
   "metadata": {},
   "outputs": [
    {
     "name": "stdout",
     "output_type": "stream",
     "text": [
      "[ 2.7987841e-03 -1.0198011e-03  2.9126145e-03 -8.0333045e-04\n",
      "  4.2496431e-03  2.4189088e-03  1.0316747e-03  1.1858747e-03\n",
      "  3.5022229e-03 -2.9382580e-03 -3.9193439e-03  4.6822913e-03\n",
      "  2.1162038e-03 -3.7339835e-03  2.9501864e-03 -4.9426882e-03\n",
      "  3.7821936e-03 -4.2679450e-03 -1.2261658e-04 -1.2383031e-03\n",
      " -7.3646056e-04 -1.7928991e-03 -4.2361333e-03 -3.5260054e-03\n",
      " -2.4465594e-04  1.4505552e-03  4.3029920e-03 -4.0560290e-03\n",
      "  2.1074633e-03  3.6228399e-03 -7.1388225e-05 -3.4548414e-03\n",
      "  9.6630334e-04  3.3961469e-03 -2.9625506e-03  2.2700140e-03\n",
      "  2.2595741e-03  2.3310846e-03 -1.6112643e-03  3.6161682e-03\n",
      "  4.8443591e-03  1.2364815e-03  6.3326227e-04 -3.5186277e-03\n",
      " -4.2175790e-03 -4.4705388e-03  1.4333534e-03  4.4331816e-03\n",
      " -2.2545741e-03 -3.6888701e-04  1.4920277e-03  3.8206731e-03\n",
      " -1.4024008e-03 -2.7108765e-03  3.3417954e-03  3.4202735e-03\n",
      "  1.3917643e-03  1.0163561e-03 -1.6529725e-03 -1.6993040e-03\n",
      " -2.8067643e-03  2.5792271e-04 -7.5823482e-04  4.4516688e-03\n",
      "  3.3402902e-03 -6.7538378e-04 -3.0344301e-03 -2.4908904e-03\n",
      "  4.6056034e-03  3.6028225e-03  3.7411673e-03 -4.8327707e-03\n",
      "  4.0471996e-03  3.2308449e-03  4.4774688e-03 -3.8071959e-03\n",
      " -9.1062038e-04 -1.9825741e-03 -5.7557790e-04  3.2264653e-03\n",
      " -1.2541942e-03 -1.7326234e-04  2.9346973e-03 -1.0949101e-03\n",
      "  2.6674499e-03 -2.0551616e-03  4.5591232e-04 -3.1703550e-03\n",
      " -2.3605053e-03 -3.9719245e-03 -8.5709908e-04  2.9450632e-03\n",
      "  4.7465200e-03 -1.9012131e-03 -1.2019926e-03  1.0572848e-03\n",
      "  1.7463550e-03 -1.6849532e-03 -2.5044463e-03 -3.4338976e-03]\n"
     ]
    }
   ],
   "source": [
    "vector = model.wv['typically']\n",
    "print(vector)"
   ]
  },
  {
   "cell_type": "code",
   "execution_count": 47,
   "metadata": {},
   "outputs": [
    {
     "name": "stdout",
     "output_type": "stream",
     "text": [
      "[('topic', 0.24371841549873352), ('knowing', 0.22297829389572144), ('pathway', 0.20408786833286285), ('find', 0.20005543529987335), ('!', 0.185384601354599), ('strike', 0.17985384166240692), ('predict', 0.1773684322834015), ('easily', 0.16775143146514893), ('placement', 0.16273823380470276), ('describe', 0.14144910871982574)]\n"
     ]
    }
   ],
   "source": [
    "similar = model.wv.most_similar('typically')\n",
    "print(similar)"
   ]
  },
  {
   "cell_type": "code",
   "execution_count": null,
   "metadata": {},
   "outputs": [],
   "source": []
  }
 ],
 "metadata": {
  "kernelspec": {
   "display_name": "Python 3",
   "language": "python",
   "name": "python3"
  },
  "language_info": {
   "codemirror_mode": {
    "name": "ipython",
    "version": 3
   },
   "file_extension": ".py",
   "mimetype": "text/x-python",
   "name": "python",
   "nbconvert_exporter": "python",
   "pygments_lexer": "ipython3",
   "version": "3.7.9"
  }
 },
 "nbformat": 4,
 "nbformat_minor": 4
}
