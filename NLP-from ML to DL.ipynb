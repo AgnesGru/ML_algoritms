{
 "cells": [
  {
   "cell_type": "markdown",
   "metadata": {},
   "source": [
    "# NLTK"
   ]
  },
  {
   "cell_type": "code",
   "execution_count": 1,
   "metadata": {},
   "outputs": [
    {
     "name": "stderr",
     "output_type": "stream",
     "text": [
      "[nltk_data] Downloading collection 'popular'\n",
      "[nltk_data]    | \n",
      "[nltk_data]    | Downloading package cmudict to\n",
      "[nltk_data]    |     C:\\Users\\User\\AppData\\Roaming\\nltk_data...\n",
      "[nltk_data]    |   Package cmudict is already up-to-date!\n",
      "[nltk_data]    | Downloading package gazetteers to\n",
      "[nltk_data]    |     C:\\Users\\User\\AppData\\Roaming\\nltk_data...\n",
      "[nltk_data]    |   Package gazetteers is already up-to-date!\n",
      "[nltk_data]    | Downloading package genesis to\n",
      "[nltk_data]    |     C:\\Users\\User\\AppData\\Roaming\\nltk_data...\n",
      "[nltk_data]    |   Package genesis is already up-to-date!\n",
      "[nltk_data]    | Downloading package gutenberg to\n",
      "[nltk_data]    |     C:\\Users\\User\\AppData\\Roaming\\nltk_data...\n",
      "[nltk_data]    |   Package gutenberg is already up-to-date!\n",
      "[nltk_data]    | Downloading package inaugural to\n",
      "[nltk_data]    |     C:\\Users\\User\\AppData\\Roaming\\nltk_data...\n",
      "[nltk_data]    |   Package inaugural is already up-to-date!\n",
      "[nltk_data]    | Downloading package movie_reviews to\n",
      "[nltk_data]    |     C:\\Users\\User\\AppData\\Roaming\\nltk_data...\n",
      "[nltk_data]    |   Package movie_reviews is already up-to-date!\n",
      "[nltk_data]    | Downloading package names to\n",
      "[nltk_data]    |     C:\\Users\\User\\AppData\\Roaming\\nltk_data...\n",
      "[nltk_data]    |   Package names is already up-to-date!\n",
      "[nltk_data]    | Downloading package shakespeare to\n",
      "[nltk_data]    |     C:\\Users\\User\\AppData\\Roaming\\nltk_data...\n",
      "[nltk_data]    |   Package shakespeare is already up-to-date!\n",
      "[nltk_data]    | Downloading package stopwords to\n",
      "[nltk_data]    |     C:\\Users\\User\\AppData\\Roaming\\nltk_data...\n",
      "[nltk_data]    |   Package stopwords is already up-to-date!\n",
      "[nltk_data]    | Downloading package treebank to\n",
      "[nltk_data]    |     C:\\Users\\User\\AppData\\Roaming\\nltk_data...\n",
      "[nltk_data]    |   Package treebank is already up-to-date!\n",
      "[nltk_data]    | Downloading package twitter_samples to\n",
      "[nltk_data]    |     C:\\Users\\User\\AppData\\Roaming\\nltk_data...\n",
      "[nltk_data]    |   Package twitter_samples is already up-to-date!\n",
      "[nltk_data]    | Downloading package omw to\n",
      "[nltk_data]    |     C:\\Users\\User\\AppData\\Roaming\\nltk_data...\n",
      "[nltk_data]    |   Package omw is already up-to-date!\n",
      "[nltk_data]    | Downloading package wordnet to\n",
      "[nltk_data]    |     C:\\Users\\User\\AppData\\Roaming\\nltk_data...\n",
      "[nltk_data]    |   Package wordnet is already up-to-date!\n",
      "[nltk_data]    | Downloading package wordnet_ic to\n",
      "[nltk_data]    |     C:\\Users\\User\\AppData\\Roaming\\nltk_data...\n",
      "[nltk_data]    |   Package wordnet_ic is already up-to-date!\n",
      "[nltk_data]    | Downloading package words to\n",
      "[nltk_data]    |     C:\\Users\\User\\AppData\\Roaming\\nltk_data...\n",
      "[nltk_data]    |   Package words is already up-to-date!\n",
      "[nltk_data]    | Downloading package maxent_ne_chunker to\n",
      "[nltk_data]    |     C:\\Users\\User\\AppData\\Roaming\\nltk_data...\n",
      "[nltk_data]    |   Package maxent_ne_chunker is already up-to-date!\n",
      "[nltk_data]    | Downloading package punkt to\n",
      "[nltk_data]    |     C:\\Users\\User\\AppData\\Roaming\\nltk_data...\n",
      "[nltk_data]    |   Package punkt is already up-to-date!\n",
      "[nltk_data]    | Downloading package snowball_data to\n",
      "[nltk_data]    |     C:\\Users\\User\\AppData\\Roaming\\nltk_data...\n",
      "[nltk_data]    |   Package snowball_data is already up-to-date!\n",
      "[nltk_data]    | Downloading package averaged_perceptron_tagger to\n",
      "[nltk_data]    |     C:\\Users\\User\\AppData\\Roaming\\nltk_data...\n",
      "[nltk_data]    |   Package averaged_perceptron_tagger is already up-\n",
      "[nltk_data]    |       to-date!\n",
      "[nltk_data]    | \n",
      "[nltk_data]  Done downloading collection popular\n"
     ]
    },
    {
     "data": {
      "text/plain": [
       "True"
      ]
     },
     "execution_count": 1,
     "metadata": {},
     "output_type": "execute_result"
    }
   ],
   "source": [
    "import nltk\n",
    "import pandas as pd\n",
    "import numpy as np\n",
    "nltk.download('popular')"
   ]
  },
  {
   "cell_type": "markdown",
   "metadata": {},
   "source": [
    "### Tokenization"
   ]
  },
  {
   "cell_type": "code",
   "execution_count": 3,
   "metadata": {},
   "outputs": [],
   "source": [
    "paragraph = \"\"\"Both versions convey a topic; it’s pretty easy to predict that the paragraph will be about epidemiological \n",
    "evidence, but only the second version establishes an argumentative point and puts it in context. The paragraph doesn’t \n",
    "just describe the epidemiological evidence; it shows how epidemiology is telling the same story as etiology. Similarly, \n",
    "while Version A doesn’t relate to anything in particular, Version B immediately suggests that the prior paragraph addresses \n",
    "the biological pathway (i.e. etiology) of a disease and that the new paragraph will bolster the emerging hypothesis with a\n",
    "different kind of evidence. As a reader, it’s easy to keep track of how the paragraph about cells and chemicals and such \n",
    "relates to the paragraph about populations in different places. A last thing to note about key sentences is that academic \n",
    "readers expect them to be at the beginning of the paragraph. (The first sentence this paragraph is a good example of this \n",
    "in action!) This placement helps readers comprehend your argument. To see how, try this: find an academic piece (such as a \n",
    "textbook or scholarly article) that strikes you as well written and go through part of it reading just the first sentence of \n",
    "each paragraph. You should be able to easily follow the sequence of logic. When you’re writing for professors, it is especially \n",
    "effective to put your key sentences first because they usually convey your own original thinking. It’s a very good sign when\n",
    "your paragraphs are typically composed of a telling key sentence followed by evidence and explanation.\n",
    "Knowing this convention of academic writing can help you both read and write more effectively. When you’re reading a \n",
    "complicated academic piece for the first time, you might want to go through reading only the first sentence or two of each \n",
    "paragraph to get the overall outline of the argument. Then you can go back and read all of it with a clearer picture of how \n",
    "each of the details fit in. And when you’re writing, you may also find it useful to write the first sentence of each paragraph \n",
    "(instead of a topic-based outline) to map out a thorough argument before getting immersed in sentence-level wordsmithing.\"\"\""
   ]
  },
  {
   "cell_type": "code",
   "execution_count": 4,
   "metadata": {},
   "outputs": [],
   "source": [
    "sentence = nltk.tokenize.sent_tokenize(paragraph)"
   ]
  },
  {
   "cell_type": "code",
   "execution_count": 5,
   "metadata": {},
   "outputs": [
    {
     "name": "stdout",
     "output_type": "stream",
     "text": [
      "['Both versions convey a topic; it’s pretty easy to predict that the paragraph will be about epidemiological \\nevidence, but only the second version establishes an argumentative point and puts it in context.', 'The paragraph doesn’t \\njust describe the epidemiological evidence; it shows how epidemiology is telling the same story as etiology.', 'Similarly, \\nwhile Version A doesn’t relate to anything in particular, Version B immediately suggests that the prior paragraph addresses \\nthe biological pathway (i.e.', 'etiology) of a disease and that the new paragraph will bolster the emerging hypothesis with a\\ndifferent kind of evidence.', 'As a reader, it’s easy to keep track of how the paragraph about cells and chemicals and such \\nrelates to the paragraph about populations in different places.', 'A last thing to note about key sentences is that academic \\nreaders expect them to be at the beginning of the paragraph.', '(The first sentence this paragraph is a good example of this \\nin action!)', 'This placement helps readers comprehend your argument.', 'To see how, try this: find an academic piece (such as a \\ntextbook or scholarly article) that strikes you as well written and go through part of it reading just the first sentence of \\neach paragraph.', 'You should be able to easily follow the sequence of logic.', 'When you’re writing for professors, it is especially \\neffective to put your key sentences first because they usually convey your own original thinking.', 'It’s a very good sign when\\nyour paragraphs are typically composed of a telling key sentence followed by evidence and explanation.', 'Knowing this convention of academic writing can help you both read and write more effectively.', 'When you’re reading a \\ncomplicated academic piece for the first time, you might want to go through reading only the first sentence or two of each \\nparagraph to get the overall outline of the argument.', 'Then you can go back and read all of it with a clearer picture of how \\neach of the details fit in.', 'And when you’re writing, you may also find it useful to write the first sentence of each paragraph \\n(instead of a topic-based outline) to map out a thorough argument before getting immersed in sentence-level wordsmithing.']\n"
     ]
    }
   ],
   "source": [
    "print(sentence)"
   ]
  },
  {
   "cell_type": "code",
   "execution_count": 6,
   "metadata": {},
   "outputs": [
    {
     "name": "stdout",
     "output_type": "stream",
     "text": [
      "['Both', 'versions', 'convey', 'a', 'topic', ';', 'it', '’', 's', 'pretty', 'easy', 'to', 'predict', 'that', 'the', 'paragraph', 'will', 'be', 'about', 'epidemiological', 'evidence', ',', 'but', 'only', 'the', 'second', 'version', 'establishes', 'an', 'argumentative', 'point', 'and', 'puts', 'it', 'in', 'context', '.', 'The', 'paragraph', 'doesn', '’', 't', 'just', 'describe', 'the', 'epidemiological', 'evidence', ';', 'it', 'shows', 'how', 'epidemiology', 'is', 'telling', 'the', 'same', 'story', 'as', 'etiology', '.', 'Similarly', ',', 'while', 'Version', 'A', 'doesn', '’', 't', 'relate', 'to', 'anything', 'in', 'particular', ',', 'Version', 'B', 'immediately', 'suggests', 'that', 'the', 'prior', 'paragraph', 'addresses', 'the', 'biological', 'pathway', '(', 'i.e', '.', 'etiology', ')', 'of', 'a', 'disease', 'and', 'that', 'the', 'new', 'paragraph', 'will', 'bolster', 'the', 'emerging', 'hypothesis', 'with', 'a', 'different', 'kind', 'of', 'evidence', '.', 'As', 'a', 'reader', ',', 'it', '’', 's', 'easy', 'to', 'keep', 'track', 'of', 'how', 'the', 'paragraph', 'about', 'cells', 'and', 'chemicals', 'and', 'such', 'relates', 'to', 'the', 'paragraph', 'about', 'populations', 'in', 'different', 'places', '.', 'A', 'last', 'thing', 'to', 'note', 'about', 'key', 'sentences', 'is', 'that', 'academic', 'readers', 'expect', 'them', 'to', 'be', 'at', 'the', 'beginning', 'of', 'the', 'paragraph', '.', '(', 'The', 'first', 'sentence', 'this', 'paragraph', 'is', 'a', 'good', 'example', 'of', 'this', 'in', 'action', '!', ')', 'This', 'placement', 'helps', 'readers', 'comprehend', 'your', 'argument', '.', 'To', 'see', 'how', ',', 'try', 'this', ':', 'find', 'an', 'academic', 'piece', '(', 'such', 'as', 'a', 'textbook', 'or', 'scholarly', 'article', ')', 'that', 'strikes', 'you', 'as', 'well', 'written', 'and', 'go', 'through', 'part', 'of', 'it', 'reading', 'just', 'the', 'first', 'sentence', 'of', 'each', 'paragraph', '.', 'You', 'should', 'be', 'able', 'to', 'easily', 'follow', 'the', 'sequence', 'of', 'logic', '.', 'When', 'you', '’', 're', 'writing', 'for', 'professors', ',', 'it', 'is', 'especially', 'effective', 'to', 'put', 'your', 'key', 'sentences', 'first', 'because', 'they', 'usually', 'convey', 'your', 'own', 'original', 'thinking', '.', 'It', '’', 's', 'a', 'very', 'good', 'sign', 'when', 'your', 'paragraphs', 'are', 'typically', 'composed', 'of', 'a', 'telling', 'key', 'sentence', 'followed', 'by', 'evidence', 'and', 'explanation', '.', 'Knowing', 'this', 'convention', 'of', 'academic', 'writing', 'can', 'help', 'you', 'both', 'read', 'and', 'write', 'more', 'effectively', '.', 'When', 'you', '’', 're', 'reading', 'a', 'complicated', 'academic', 'piece', 'for', 'the', 'first', 'time', ',', 'you', 'might', 'want', 'to', 'go', 'through', 'reading', 'only', 'the', 'first', 'sentence', 'or', 'two', 'of', 'each', 'paragraph', 'to', 'get', 'the', 'overall', 'outline', 'of', 'the', 'argument', '.', 'Then', 'you', 'can', 'go', 'back', 'and', 'read', 'all', 'of', 'it', 'with', 'a', 'clearer', 'picture', 'of', 'how', 'each', 'of', 'the', 'details', 'fit', 'in', '.', 'And', 'when', 'you', '’', 're', 'writing', ',', 'you', 'may', 'also', 'find', 'it', 'useful', 'to', 'write', 'the', 'first', 'sentence', 'of', 'each', 'paragraph', '(', 'instead', 'of', 'a', 'topic-based', 'outline', ')', 'to', 'map', 'out', 'a', 'thorough', 'argument', 'before', 'getting', 'immersed', 'in', 'sentence-level', 'wordsmithing', '.']\n"
     ]
    }
   ],
   "source": [
    "words = nltk.tokenize.word_tokenize(paragraph)\n",
    "print(words)"
   ]
  },
  {
   "cell_type": "markdown",
   "metadata": {},
   "source": [
    "### Normalization ( in 3 different steps: (1) stemming, (2) lemmatization, and (3) rest)"
   ]
  },
  {
   "cell_type": "code",
   "execution_count": 7,
   "metadata": {},
   "outputs": [
    {
     "name": "stdout",
     "output_type": "stream",
     "text": [
      "['both', 'version', 'convey', 'a', 'topic', ';', 'it', '’', 's', 'pretti', 'easi', 'to', 'predict', 'that', 'the', 'paragraph', 'will', 'be', 'about', 'epidemiolog', 'evid', ',', 'but', 'onli', 'the', 'second', 'version', 'establish', 'an', 'argument', 'point', 'and', 'put', 'it', 'in', 'context', '.', 'the', 'paragraph', 'doesn', '’', 't', 'just', 'describ', 'the', 'epidemiolog', 'evid', ';', 'it', 'show', 'how', 'epidemiolog', 'is', 'tell', 'the', 'same', 'stori', 'as', 'etiolog', '.', 'similarli', ',', 'while', 'version', 'A', 'doesn', '’', 't', 'relat', 'to', 'anyth', 'in', 'particular', ',', 'version', 'B', 'immedi', 'suggest', 'that', 'the', 'prior', 'paragraph', 'address', 'the', 'biolog', 'pathway', '(', 'i.e', '.', 'etiolog', ')', 'of', 'a', 'diseas', 'and', 'that', 'the', 'new', 'paragraph', 'will', 'bolster', 'the', 'emerg', 'hypothesi', 'with', 'a', 'differ', 'kind', 'of', 'evid', '.', 'As', 'a', 'reader', ',', 'it', '’', 's', 'easi', 'to', 'keep', 'track', 'of', 'how', 'the', 'paragraph', 'about', 'cell', 'and', 'chemic', 'and', 'such', 'relat', 'to', 'the', 'paragraph', 'about', 'popul', 'in', 'differ', 'place', '.', 'A', 'last', 'thing', 'to', 'note', 'about', 'key', 'sentenc', 'is', 'that', 'academ', 'reader', 'expect', 'them', 'to', 'be', 'at', 'the', 'begin', 'of', 'the', 'paragraph', '.', '(', 'the', 'first', 'sentenc', 'thi', 'paragraph', 'is', 'a', 'good', 'exampl', 'of', 'thi', 'in', 'action', '!', ')', 'thi', 'placement', 'help', 'reader', 'comprehend', 'your', 'argument', '.', 'To', 'see', 'how', ',', 'tri', 'thi', ':', 'find', 'an', 'academ', 'piec', '(', 'such', 'as', 'a', 'textbook', 'or', 'scholarli', 'articl', ')', 'that', 'strike', 'you', 'as', 'well', 'written', 'and', 'go', 'through', 'part', 'of', 'it', 'read', 'just', 'the', 'first', 'sentenc', 'of', 'each', 'paragraph', '.', 'you', 'should', 'be', 'abl', 'to', 'easili', 'follow', 'the', 'sequenc', 'of', 'logic', '.', 'when', 'you', '’', 're', 'write', 'for', 'professor', ',', 'it', 'is', 'especi', 'effect', 'to', 'put', 'your', 'key', 'sentenc', 'first', 'becaus', 'they', 'usual', 'convey', 'your', 'own', 'origin', 'think', '.', 'It', '’', 's', 'a', 'veri', 'good', 'sign', 'when', 'your', 'paragraph', 'are', 'typic', 'compos', 'of', 'a', 'tell', 'key', 'sentenc', 'follow', 'by', 'evid', 'and', 'explan', '.', 'know', 'thi', 'convent', 'of', 'academ', 'write', 'can', 'help', 'you', 'both', 'read', 'and', 'write', 'more', 'effect', '.', 'when', 'you', '’', 're', 'read', 'a', 'complic', 'academ', 'piec', 'for', 'the', 'first', 'time', ',', 'you', 'might', 'want', 'to', 'go', 'through', 'read', 'onli', 'the', 'first', 'sentenc', 'or', 'two', 'of', 'each', 'paragraph', 'to', 'get', 'the', 'overal', 'outlin', 'of', 'the', 'argument', '.', 'then', 'you', 'can', 'go', 'back', 'and', 'read', 'all', 'of', 'it', 'with', 'a', 'clearer', 'pictur', 'of', 'how', 'each', 'of', 'the', 'detail', 'fit', 'in', '.', 'and', 'when', 'you', '’', 're', 'write', ',', 'you', 'may', 'also', 'find', 'it', 'use', 'to', 'write', 'the', 'first', 'sentenc', 'of', 'each', 'paragraph', '(', 'instead', 'of', 'a', 'topic-bas', 'outlin', ')', 'to', 'map', 'out', 'a', 'thorough', 'argument', 'befor', 'get', 'immers', 'in', 'sentence-level', 'wordsmith', '.']\n"
     ]
    }
   ],
   "source": [
    "from nltk.stem.porter import PorterStemmer  # stemming\n",
    "porter = PorterStemmer()\n",
    "stemmed = [porter.stem(word) for word in words]\n",
    "print(stemmed)"
   ]
  },
  {
   "cell_type": "code",
   "execution_count": 8,
   "metadata": {},
   "outputs": [],
   "source": [
    "lower_case = [w.lower() for w in stemmed] # make lower_case"
   ]
  },
  {
   "cell_type": "code",
   "execution_count": 9,
   "metadata": {},
   "outputs": [
    {
     "name": "stdout",
     "output_type": "stream",
     "text": [
      "['both', 'version', 'convey', 'a', 'topic', 'it', 's', 'pretti', 'easi', 'to', 'predict', 'that', 'the', 'paragraph', 'will', 'be', 'about', 'epidemiolog', 'evid', 'but', 'onli', 'the', 'second', 'version', 'establish', 'an', 'argument', 'point', 'and', 'put', 'it', 'in', 'context', 'the', 'paragraph', 'doesn', 't', 'just', 'describ', 'the', 'epidemiolog', 'evid', 'it', 'show', 'how', 'epidemiolog', 'is', 'tell', 'the', 'same', 'stori', 'as', 'etiolog', 'similarli', 'while', 'version', 'a', 'doesn', 't', 'relat', 'to', 'anyth', 'in', 'particular', 'version', 'b', 'immedi', 'suggest', 'that', 'the', 'prior', 'paragraph', 'address', 'the', 'biolog', 'pathway', 'etiolog', 'of', 'a', 'diseas', 'and', 'that', 'the', 'new', 'paragraph', 'will', 'bolster', 'the', 'emerg', 'hypothesi', 'with', 'a', 'differ', 'kind', 'of', 'evid', 'as', 'a', 'reader', 'it', 's', 'easi', 'to', 'keep', 'track', 'of', 'how', 'the', 'paragraph', 'about', 'cell', 'and', 'chemic', 'and', 'such', 'relat', 'to', 'the', 'paragraph', 'about', 'popul', 'in', 'differ', 'place', 'a', 'last', 'thing', 'to', 'note', 'about', 'key', 'sentenc', 'is', 'that', 'academ', 'reader', 'expect', 'them', 'to', 'be', 'at', 'the', 'begin', 'of', 'the', 'paragraph', 'the', 'first', 'sentenc', 'thi', 'paragraph', 'is', 'a', 'good', 'exampl', 'of', 'thi', 'in', 'action', 'thi', 'placement', 'help', 'reader', 'comprehend', 'your', 'argument', 'to', 'see', 'how', 'tri', 'thi', 'find', 'an', 'academ', 'piec', 'such', 'as', 'a', 'textbook', 'or', 'scholarli', 'articl', 'that', 'strike', 'you', 'as', 'well', 'written', 'and', 'go', 'through', 'part', 'of', 'it', 'read', 'just', 'the', 'first', 'sentenc', 'of', 'each', 'paragraph', 'you', 'should', 'be', 'abl', 'to', 'easili', 'follow', 'the', 'sequenc', 'of', 'logic', 'when', 'you', 're', 'write', 'for', 'professor', 'it', 'is', 'especi', 'effect', 'to', 'put', 'your', 'key', 'sentenc', 'first', 'becaus', 'they', 'usual', 'convey', 'your', 'own', 'origin', 'think', 'it', 's', 'a', 'veri', 'good', 'sign', 'when', 'your', 'paragraph', 'are', 'typic', 'compos', 'of', 'a', 'tell', 'key', 'sentenc', 'follow', 'by', 'evid', 'and', 'explan', 'know', 'thi', 'convent', 'of', 'academ', 'write', 'can', 'help', 'you', 'both', 'read', 'and', 'write', 'more', 'effect', 'when', 'you', 're', 'read', 'a', 'complic', 'academ', 'piec', 'for', 'the', 'first', 'time', 'you', 'might', 'want', 'to', 'go', 'through', 'read', 'onli', 'the', 'first', 'sentenc', 'or', 'two', 'of', 'each', 'paragraph', 'to', 'get', 'the', 'overal', 'outlin', 'of', 'the', 'argument', 'then', 'you', 'can', 'go', 'back', 'and', 'read', 'all', 'of', 'it', 'with', 'a', 'clearer', 'pictur', 'of', 'how', 'each', 'of', 'the', 'detail', 'fit', 'in', 'and', 'when', 'you', 're', 'write', 'you', 'may', 'also', 'find', 'it', 'use', 'to', 'write', 'the', 'first', 'sentenc', 'of', 'each', 'paragraph', 'instead', 'of', 'a', 'outlin', 'to', 'map', 'out', 'a', 'thorough', 'argument', 'befor', 'get', 'immers', 'in', 'wordsmith']\n"
     ]
    }
   ],
   "source": [
    "no_intern = [word for word in lower_case if word.isalpha()] # remove punctuation\n",
    "print(no_intern)"
   ]
  },
  {
   "cell_type": "code",
   "execution_count": 10,
   "metadata": {},
   "outputs": [
    {
     "name": "stdout",
     "output_type": "stream",
     "text": [
      "['version', 'convey', 'topic', 'pretti', 'easi', 'predict', 'paragraph', 'epidemiolog', 'evid', 'onli', 'second', 'version', 'establish', 'argument', 'point', 'put', 'context', 'paragraph', 'describ', 'epidemiolog', 'evid', 'show', 'epidemiolog', 'tell', 'stori', 'etiolog', 'similarli', 'version', 'relat', 'anyth', 'particular', 'version', 'b', 'immedi', 'suggest', 'prior', 'paragraph', 'address', 'biolog', 'pathway', 'etiolog', 'diseas', 'new', 'paragraph', 'bolster', 'emerg', 'hypothesi', 'differ', 'kind', 'evid', 'reader', 'easi', 'keep', 'track', 'paragraph', 'cell', 'chemic', 'relat', 'paragraph', 'popul', 'differ', 'place', 'last', 'thing', 'note', 'key', 'sentenc', 'academ', 'reader', 'expect', 'begin', 'paragraph', 'first', 'sentenc', 'thi', 'paragraph', 'good', 'exampl', 'thi', 'action', 'thi', 'placement', 'help', 'reader', 'comprehend', 'argument', 'see', 'tri', 'thi', 'find', 'academ', 'piec', 'textbook', 'scholarli', 'articl', 'strike', 'well', 'written', 'go', 'part', 'read', 'first', 'sentenc', 'paragraph', 'abl', 'easili', 'follow', 'sequenc', 'logic', 'write', 'professor', 'especi', 'effect', 'put', 'key', 'sentenc', 'first', 'becaus', 'usual', 'convey', 'origin', 'think', 'veri', 'good', 'sign', 'paragraph', 'typic', 'compos', 'tell', 'key', 'sentenc', 'follow', 'evid', 'explan', 'know', 'thi', 'convent', 'academ', 'write', 'help', 'read', 'write', 'effect', 'read', 'complic', 'academ', 'piec', 'first', 'time', 'might', 'want', 'go', 'read', 'onli', 'first', 'sentenc', 'two', 'paragraph', 'get', 'overal', 'outlin', 'argument', 'go', 'back', 'read', 'clearer', 'pictur', 'detail', 'fit', 'write', 'may', 'also', 'find', 'use', 'write', 'first', 'sentenc', 'paragraph', 'instead', 'outlin', 'map', 'thorough', 'argument', 'befor', 'get', 'immers', 'wordsmith']\n"
     ]
    }
   ],
   "source": [
    "from nltk.corpus import stopwords\n",
    "stop_words = set(stopwords.words('english'))\n",
    "words = [w for w in no_intern if not w in stop_words]\n",
    "print(words)"
   ]
  },
  {
   "cell_type": "markdown",
   "metadata": {},
   "source": [
    "### Sentences without stop words"
   ]
  },
  {
   "cell_type": "code",
   "execution_count": 11,
   "metadata": {},
   "outputs": [
    {
     "name": "stdout",
     "output_type": "stream",
     "text": [
      "16\n"
     ]
    }
   ],
   "source": [
    "print(len(sentence))"
   ]
  },
  {
   "cell_type": "code",
   "execution_count": 12,
   "metadata": {},
   "outputs": [],
   "source": [
    "for sent in range(len(sentence)):\n",
    "    words = nltk.tokenize.word_tokenize(sentence[sent])\n",
    "    words = [porter.stem(word) for word in words if word not in set(stopwords.words('english'))]\n",
    "    sentence[sent] = ' '.join(words)"
   ]
  },
  {
   "cell_type": "code",
   "execution_count": 13,
   "metadata": {},
   "outputs": [
    {
     "name": "stdout",
     "output_type": "stream",
     "text": [
      "['both version convey topic ; ’ pretti easi predict paragraph epidemiolog evid , second version establish argument point put context .', 'the paragraph ’ describ epidemiolog evid ; show epidemiolog tell stori etiolog .', 'similarli , version A ’ relat anyth particular , version B immedi suggest prior paragraph address biolog pathway ( i.e .', 'etiolog ) diseas new paragraph bolster emerg hypothesi differ kind evid .', 'As reader , ’ easi keep track paragraph cell chemic relat paragraph popul differ place .', 'A last thing note key sentenc academ reader expect begin paragraph .', '( the first sentenc paragraph good exampl action ! )', 'thi placement help reader comprehend argument .', 'To see , tri : find academ piec ( textbook scholarli articl ) strike well written go part read first sentenc paragraph .', 'you abl easili follow sequenc logic .', 'when ’ write professor , especi effect put key sentenc first usual convey origin think .', 'It ’ good sign paragraph typic compos tell key sentenc follow evid explan .', 'know convent academ write help read write effect .', 'when ’ read complic academ piec first time , might want go read first sentenc two paragraph get overal outlin argument .', 'then go back read clearer pictur detail fit .', 'and ’ write , may also find use write first sentenc paragraph ( instead topic-bas outlin ) map thorough argument get immers sentence-level wordsmith .']\n"
     ]
    }
   ],
   "source": [
    "print(sentence)"
   ]
  },
  {
   "cell_type": "markdown",
   "metadata": {},
   "source": [
    "### Lemmatization \n",
    "(it does what stemm does but gives the output which ist understandable for human)"
   ]
  },
  {
   "cell_type": "code",
   "execution_count": 14,
   "metadata": {},
   "outputs": [],
   "source": [
    "from nltk.stem import WordNetLemmatizer\n",
    "from nltk.corpus import stopwords"
   ]
  },
  {
   "cell_type": "code",
   "execution_count": 15,
   "metadata": {},
   "outputs": [],
   "source": [
    "lemmatizer = WordNetLemmatizer()\n",
    "sentence = nltk.sent_tokenize(paragraph)"
   ]
  },
  {
   "cell_type": "code",
   "execution_count": 16,
   "metadata": {},
   "outputs": [
    {
     "name": "stdout",
     "output_type": "stream",
     "text": [
      "['Both version convey topic ; ’ pretty easy predict paragraph epidemiological evidence , second version establishes argumentative point put context .', 'The paragraph ’ describe epidemiological evidence ; show epidemiology telling story etiology .', 'Similarly , Version A ’ relate anything particular , Version B immediately suggests prior paragraph address biological pathway ( i.e .', 'etiology ) disease new paragraph bolster emerging hypothesis different kind evidence .', 'As reader , ’ easy keep track paragraph cell chemical relates paragraph population different place .', 'A last thing note key sentence academic reader expect beginning paragraph .', '( The first sentence paragraph good example action ! )', 'This placement help reader comprehend argument .', 'To see , try : find academic piece ( textbook scholarly article ) strike well written go part reading first sentence paragraph .', 'You able easily follow sequence logic .', 'When ’ writing professor , especially effective put key sentence first usually convey original thinking .', 'It ’ good sign paragraph typically composed telling key sentence followed evidence explanation .', 'Knowing convention academic writing help read write effectively .', 'When ’ reading complicated academic piece first time , might want go reading first sentence two paragraph get overall outline argument .', 'Then go back read clearer picture detail fit .', 'And ’ writing , may also find useful write first sentence paragraph ( instead topic-based outline ) map thorough argument getting immersed sentence-level wordsmithing .']\n"
     ]
    }
   ],
   "source": [
    "for sent in range(len(sentence)):\n",
    "    words = nltk.word_tokenize(sentence[sent])\n",
    "    words = [lemmatizer.lemmatize(word) for word in words if word not in set(stopwords.words('english'))]\n",
    "    sentence[sent] = ' '.join(words)\n",
    "print(sentence)"
   ]
  },
  {
   "cell_type": "code",
   "execution_count": 17,
   "metadata": {},
   "outputs": [
    {
     "name": "stdout",
     "output_type": "stream",
     "text": [
      "['both version convey topic ; ’ pretty easy predict paragraph epidemiological evidence , second version establishes argumentative point put context .', 'the paragraph ’ describe epidemiological evidence ; show epidemiology telling story etiology .', 'similarly , version a ’ relate anything particular , version b immediately suggests prior paragraph address biological pathway ( i.e .', 'etiology ) disease new paragraph bolster emerging hypothesis different kind evidence .', 'as reader , ’ easy keep track paragraph cell chemical relates paragraph population different place .', 'a last thing note key sentence academic reader expect beginning paragraph .', '( the first sentence paragraph good example action ! )', 'this placement help reader comprehend argument .', 'to see , try : find academic piece ( textbook scholarly article ) strike well written go part reading first sentence paragraph .', 'you able easily follow sequence logic .', 'when ’ writing professor , especially effective put key sentence first usually convey original thinking .', 'it ’ good sign paragraph typically composed telling key sentence followed evidence explanation .', 'knowing convention academic writing help read write effectively .', 'when ’ reading complicated academic piece first time , might want go reading first sentence two paragraph get overall outline argument .', 'then go back read clearer picture detail fit .', 'and ’ writing , may also find useful write first sentence paragraph ( instead topic-based outline ) map thorough argument getting immersed sentence-level wordsmithing .']\n"
     ]
    }
   ],
   "source": [
    "lowered = [i.lower() for i in sentence] \n",
    "print(lowered)    "
   ]
  },
  {
   "cell_type": "code",
   "execution_count": 18,
   "metadata": {},
   "outputs": [
    {
     "name": "stdout",
     "output_type": "stream",
     "text": [
      "['both version convey topic pretty easy predict paragraph epidemiological evidence second version establishes argumentative point put context', 'the paragraph describe epidemiological evidence show epidemiology telling story etiology', 'similarly version a relate anything particular version b immediately suggests prior paragraph address biological pathway', 'etiology disease new paragraph bolster emerging hypothesis different kind evidence', 'as reader easy keep track paragraph cell chemical relates paragraph population different place', 'a last thing note key sentence academic reader expect beginning paragraph', 'the first sentence paragraph good example action', 'this placement help reader comprehend argument', 'to see try find academic piece textbook scholarly article strike well written go part reading first sentence paragraph', 'you able easily follow sequence logic', 'when writing professor especially effective put key sentence first usually convey original thinking', 'it good sign paragraph typically composed telling key sentence followed evidence explanation', 'knowing convention academic writing help read write effectively', 'when reading complicated academic piece first time might want go reading first sentence two paragraph get overall outline argument', 'then go back read clearer picture detail fit', 'and writing may also find useful write first sentence paragraph instead outline map thorough argument getting immersed wordsmithing']\n"
     ]
    }
   ],
   "source": [
    "for i in range(len(sentence)):\n",
    "    words = nltk.word_tokenize(sentence[i])\n",
    "    words=[word.lower() for word in words if word.isalpha()]\n",
    "    sentence[i] = ' '.join(words)\n",
    "\n",
    "print(sentence)\n"
   ]
  },
  {
   "cell_type": "markdown",
   "metadata": {},
   "source": [
    "# Bag of words"
   ]
  },
  {
   "cell_type": "code",
   "execution_count": 19,
   "metadata": {},
   "outputs": [],
   "source": [
    "paragraph = \"\"\"Both versions convey a topic; it’s pretty easy to predict that the paragraph will be about epidemiological \n",
    "evidence, but only the second version establishes an argumentative point and puts it in context. The paragraph doesn’t \n",
    "just describe the epidemiological evidence; it shows how epidemiology is telling the same story as etiology. Similarly, \n",
    "while Version A doesn’t relate to anything in particular, Version B immediately suggests that the prior paragraph addresses \n",
    "the biological pathway (i.e. etiology) of a disease and that the new paragraph will bolster the emerging hypothesis with a\n",
    "different kind of evidence. As a reader, it’s easy to keep track of how the paragraph about cells and chemicals and such \n",
    "relates to the paragraph about populations in different places. A last thing to note about key sentences is that academic \n",
    "readers expect them to be at the beginning of the paragraph. (The first sentence this paragraph is a good example of this \n",
    "in action!) This placement helps readers comprehend your argument. To see how, try this: find an academic piece (such as a \n",
    "textbook or scholarly article) that strikes you as well written and go through part of it reading just the first sentence of \n",
    "each paragraph. You should be able to easily follow the sequence of logic. When you’re writing for professors, it is especially \n",
    "effective to put your key sentences first because they usually convey your own original thinking. It’s a very good sign when\n",
    "your paragraphs are typically composed of a telling key sentence followed by evidence and explanation.\n",
    "Knowing this convention of academic writing can help you both read and write more effectively. When you’re reading a \n",
    "complicated academic piece for the first time, you might want to go through reading only the first sentence or two of each \n",
    "paragraph to get the overall outline of the argument. Then you can go back and read all of it with a clearer picture of how \n",
    "each of the details fit in. And when you’re writing, you may also find it useful to write the first sentence of each paragraph \n",
    "(instead of a topic-based outline) to map out a thorough argument before getting immersed in sentence-level wordsmithing.\"\"\""
   ]
  },
  {
   "cell_type": "code",
   "execution_count": 20,
   "metadata": {},
   "outputs": [],
   "source": [
    "# cleaning the data\n",
    "from nltk.stem import WordNetLemmatizer\n",
    "from nltk.corpus import stopwords\n",
    "from nltk.stem.porter import PorterStemmer \n",
    "import re\n",
    "\n"
   ]
  },
  {
   "cell_type": "code",
   "execution_count": 31,
   "metadata": {},
   "outputs": [
    {
     "name": "stdout",
     "output_type": "stream",
     "text": [
      "['Both versions convey a topic; it’s pretty easy to predict that the paragraph will be about epidemiological \\nevidence, but only the second version establishes an argumentative point and puts it in context.', 'The paragraph doesn’t \\njust describe the epidemiological evidence; it shows how epidemiology is telling the same story as etiology.', 'Similarly, \\nwhile Version A doesn’t relate to anything in particular, Version B immediately suggests that the prior paragraph addresses \\nthe biological pathway (i.e.', 'etiology) of a disease and that the new paragraph will bolster the emerging hypothesis with a\\ndifferent kind of evidence.', 'As a reader, it’s easy to keep track of how the paragraph about cells and chemicals and such \\nrelates to the paragraph about populations in different places.', 'A last thing to note about key sentences is that academic \\nreaders expect them to be at the beginning of the paragraph.', '(The first sentence this paragraph is a good example of this \\nin action!)', 'This placement helps readers comprehend your argument.', 'To see how, try this: find an academic piece (such as a \\ntextbook or scholarly article) that strikes you as well written and go through part of it reading just the first sentence of \\neach paragraph.', 'You should be able to easily follow the sequence of logic.', 'When you’re writing for professors, it is especially \\neffective to put your key sentences first because they usually convey your own original thinking.', 'It’s a very good sign when\\nyour paragraphs are typically composed of a telling key sentence followed by evidence and explanation.', 'Knowing this convention of academic writing can help you both read and write more effectively.', 'When you’re reading a \\ncomplicated academic piece for the first time, you might want to go through reading only the first sentence or two of each \\nparagraph to get the overall outline of the argument.', 'Then you can go back and read all of it with a clearer picture of how \\neach of the details fit in.', 'And when you’re writing, you may also find it useful to write the first sentence of each paragraph \\n(instead of a topic-based outline) to map out a thorough argument before getting immersed in sentence-level wordsmithing.']\n",
      "**************************************************\n",
      "['version convey topic pretty easy predict paragraph epidemiological evidence second version establishes argumentative point put context', 'paragraph describe epidemiological evidence show epidemiology telling story etiology', 'similarly version relate anything particular version b immediately suggests prior paragraph address biological pathway e', 'etiology disease new paragraph bolster emerging hypothesis different kind evidence', 'reader easy keep track paragraph cell chemical relates paragraph population different place', 'last thing note key sentence academic reader expect beginning paragraph', 'first sentence paragraph good example action', 'placement help reader comprehend argument', 'see try find academic piece textbook scholarly article strike well written go part reading first sentence paragraph', 'able easily follow sequence logic', 'writing professor especially effective put key sentence first usually convey original thinking', 'good sign paragraph typically composed telling key sentence followed evidence explanation', 'knowing convention academic writing help read write effectively', 'reading complicated academic piece first time might want go reading first sentence two paragraph get overall outline argument', 'go back read clearer picture detail fit', 'writing may also find useful write first sentence paragraph instead topic based outline map thorough argument getting immersed sentence level wordsmithing']\n"
     ]
    }
   ],
   "source": [
    "ps = PorterStemmer()\n",
    "wordnet = WordNetLemmatizer()\n",
    "sentence = nltk.sent_tokenize(paragraph)\n",
    "print(sentence)\n",
    "corpus = []\n",
    "for i in range(len(sentence)):\n",
    "    review = re.sub('[^a-zA-Z]',' ', sentence[i])\n",
    "    review = review.lower()\n",
    "    review = review.split()\n",
    "    review = [wordnet.lemmatize(word) for word in review if word not in set(stopwords.words('english'))]\n",
    "    review = \" \".join(review)\n",
    "    corpus.append(review)\n",
    "    \n",
    "print(50*'*')\n",
    "print(corpus)"
   ]
  },
  {
   "cell_type": "markdown",
   "metadata": {},
   "source": [
    "### Bag of words"
   ]
  },
  {
   "cell_type": "code",
   "execution_count": 33,
   "metadata": {},
   "outputs": [],
   "source": [
    "from sklearn.feature_extraction.text import CountVectorizer"
   ]
  },
  {
   "cell_type": "code",
   "execution_count": 37,
   "metadata": {},
   "outputs": [
    {
     "name": "stdout",
     "output_type": "stream",
     "text": [
      "(16, 121)\n"
     ]
    }
   ],
   "source": [
    "cv = CountVectorizer()\n",
    "x = cv.fit_transform(corpus).toarray()\n",
    "print(x.shape)\n"
   ]
  },
  {
   "cell_type": "markdown",
   "metadata": {},
   "source": [
    "### TF-IDF"
   ]
  },
  {
   "cell_type": "code",
   "execution_count": 38,
   "metadata": {},
   "outputs": [],
   "source": [
    "# cleaning the data\n",
    "from nltk.stem import WordNetLemmatizer\n",
    "from nltk.corpus import stopwords\n",
    "from nltk.stem.porter import PorterStemmer \n",
    "import re"
   ]
  },
  {
   "cell_type": "code",
   "execution_count": 40,
   "metadata": {},
   "outputs": [],
   "source": [
    "ps = PorterStemmer()\n",
    "wordnet = WordNetLemmatizer()\n",
    "sentence = nltk.sent_tokenize(paragraph)\n",
    "# print(sentence)\n",
    "corpus = []\n",
    "for i in range(len(sentence)):\n",
    "    review = re.sub('[^a-zA-Z]',' ', sentence[i])\n",
    "    review = review.lower()\n",
    "    review = review.split()\n",
    "    review = [wordnet.lemmatize(word) for word in review if word not in set(stopwords.words('english'))]\n",
    "    review = \" \".join(review)\n",
    "    corpus.append(review)"
   ]
  },
  {
   "cell_type": "code",
   "execution_count": 48,
   "metadata": {},
   "outputs": [
    {
     "name": "stdout",
     "output_type": "stream",
     "text": [
      "[[0.         0.         0.         ... 0.         0.         0.        ]\n",
      " [0.         0.         0.         ... 0.         0.         0.        ]\n",
      " [0.         0.         0.         ... 0.         0.         0.        ]\n",
      " ...\n",
      " [0.         0.1801516  0.         ... 0.         0.         0.        ]\n",
      " [0.         0.         0.         ... 0.         0.         0.        ]\n",
      " [0.         0.         0.         ... 0.21058114 0.18842785 0.        ]]\n"
     ]
    }
   ],
   "source": [
    "from sklearn.feature_extraction.text import TfidfVectorizer\n",
    "vectorizer = TfidfVectorizer()\n",
    "x = vectorizer.fit_transform(corpus).toarray()\n",
    "print(x)"
   ]
  },
  {
   "cell_type": "markdown",
   "metadata": {},
   "source": [
    "### Word2Vec"
   ]
  },
  {
   "cell_type": "code",
   "execution_count": 67,
   "metadata": {},
   "outputs": [],
   "source": [
    "import nltk\n",
    "from gensim.models import Word2Vec\n",
    "from nltk.corpus import stopwords\n",
    "import re"
   ]
  },
  {
   "cell_type": "code",
   "execution_count": 2,
   "metadata": {},
   "outputs": [
    {
     "name": "stdout",
     "output_type": "stream",
     "text": [
      "Collecting gensim\n",
      "  Downloading gensim-3.8.3-cp37-cp37m-win_amd64.whl (24.2 MB)\n",
      "Collecting Cython==0.29.14\n",
      "  Downloading Cython-0.29.14-cp37-cp37m-win_amd64.whl (1.7 MB)\n",
      "Requirement already satisfied, skipping upgrade: scipy>=0.18.1 in c:\\users\\user\\anaconda3\\lib\\site-packages (from gensim) (1.4.1)\n",
      "Requirement already satisfied, skipping upgrade: numpy>=1.11.3 in c:\\users\\user\\anaconda3\\lib\\site-packages (from gensim) (1.18.1)\n",
      "Collecting smart-open>=1.8.1\n",
      "  Downloading smart_open-3.0.0.tar.gz (113 kB)\n",
      "Requirement already satisfied, skipping upgrade: six>=1.5.0 in c:\\users\\user\\anaconda3\\lib\\site-packages (from gensim) (1.14.0)\n",
      "Requirement already satisfied, skipping upgrade: requests in c:\\users\\user\\anaconda3\\lib\\site-packages (from smart-open>=1.8.1->gensim) (2.22.0)\n",
      "Requirement already satisfied, skipping upgrade: chardet<3.1.0,>=3.0.2 in c:\\users\\user\\anaconda3\\lib\\site-packages (from requests->smart-open>=1.8.1->gensim) (3.0.4)\n",
      "Requirement already satisfied, skipping upgrade: idna<2.9,>=2.5 in c:\\users\\user\\anaconda3\\lib\\site-packages (from requests->smart-open>=1.8.1->gensim) (2.8)\n",
      "Requirement already satisfied, skipping upgrade: urllib3!=1.25.0,!=1.25.1,<1.26,>=1.21.1 in c:\\users\\user\\anaconda3\\lib\\site-packages (from requests->smart-open>=1.8.1->gensim) (1.25.8)\n",
      "Requirement already satisfied, skipping upgrade: certifi>=2017.4.17 in c:\\users\\user\\anaconda3\\lib\\site-packages (from requests->smart-open>=1.8.1->gensim) (2019.11.28)\n",
      "Building wheels for collected packages: smart-open\n",
      "  Building wheel for smart-open (setup.py): started\n",
      "  Building wheel for smart-open (setup.py): finished with status 'done'\n",
      "  Created wheel for smart-open: filename=smart_open-3.0.0-py3-none-any.whl size=107102 sha256=729a6c3233463b45bdd3f39d8a619f8e6988a919408371370ba8ad600ffb48af\n",
      "  Stored in directory: c:\\users\\user\\appdata\\local\\pip\\cache\\wheels\\83\\a6\\12\\bf3c1a667bde4251be5b7a3368b2d604c9af2105b5c1cb1870\n",
      "Successfully built smart-open\n",
      "Installing collected packages: Cython, smart-open, gensim\n",
      "  Attempting uninstall: Cython\n",
      "    Found existing installation: Cython 0.29.15\n",
      "    Uninstalling Cython-0.29.15:\n",
      "      Successfully uninstalled Cython-0.29.15\n",
      "Successfully installed Cython-0.29.14 gensim-3.8.3 smart-open-3.0.0\n",
      "Note: you may need to restart the kernel to use updated packages.\n"
     ]
    }
   ],
   "source": [
    "pip install -U gensim"
   ]
  },
  {
   "cell_type": "code",
   "execution_count": 59,
   "metadata": {},
   "outputs": [],
   "source": [
    "paragraph = \"\"\"Both versions convey a topic; it’s pretty easy to predict that the paragraph will be about epidemiological \n",
    "evidence, but only the second version establishes an argumentative point and puts it in context. The paragraph doesn’t \n",
    "just describe the epidemiological evidence; it shows how epidemiology is telling the same story as etiology. Similarly, \n",
    "while Version A doesn’t relate to anything in particular, Version B immediately suggests that the prior paragraph addresses \n",
    "the biological pathway (i.e. etiology) of a disease and that the new paragraph will bolster the emerging hypothesis with a\n",
    "different kind of evidence. As a reader, it’s easy to keep track of how the paragraph about cells and chemicals and such \n",
    "relates to the paragraph about populations in different places. A last thing to note about key sentences is that academic \n",
    "readers expect them to be at the beginning of the paragraph. (The first sentence this paragraph is a good example of this \n",
    "in action!) This placement helps readers comprehend your argument. To see how, try this: find an academic piece (such as a \n",
    "textbook or scholarly article) that strikes you as well written and go through part of it reading just the first sentence of \n",
    "each paragraph. You should be able to easily follow the sequence of logic. When you’re writing for professors, it is especially \n",
    "effective to put your key sentences first because they usually convey your own original thinking. It’s a very good sign when\n",
    "your paragraphs are typically composed of a telling key sentence followed by evidence and explanation.\n",
    "Knowing this convention of academic writing can help you both read and write more effectively. When you’re reading a \n",
    "complicated academic piece for the first time, you might want to go through reading only the first sentence or two of each \n",
    "paragraph to get the overall outline of the argument. Then you can go back and read all of it with a clearer picture of how \n",
    "each of the details fit in. And when you’re writing, you may also find it useful to write the first sentence of each paragraph \n",
    "(instead of a topic-based outline) to map out a thorough argument before getting immersed in sentence-level wordsmithing.\"\"\""
   ]
  },
  {
   "cell_type": "code",
   "execution_count": null,
   "metadata": {},
   "outputs": [],
   "source": []
  },
  {
   "cell_type": "code",
   "execution_count": 60,
   "metadata": {},
   "outputs": [],
   "source": [
    "text = re.sub(r'\\[0-9]*\\]',' ', paragraph) # digits\n",
    "text = re.sub(r'\\s+',' ', text) # whitespaces\n",
    "text = text.lower()\n",
    "text = re.sub(r'\\d',' ', text)\n",
    "\n",
    "# print(text)"
   ]
  },
  {
   "cell_type": "code",
   "execution_count": 61,
   "metadata": {},
   "outputs": [
    {
     "name": "stdout",
     "output_type": "stream",
     "text": [
      "['both versions convey a topic; it’s pretty easy to predict that the paragraph '\n",
      " 'will be about epidemiological evidence, but only the second version '\n",
      " 'establishes an argumentative point and puts it in context.',\n",
      " 'the paragraph doesn’t just describe the epidemiological evidence; it shows '\n",
      " 'how epidemiology is telling the same story as etiology.',\n",
      " 'similarly, while version a doesn’t relate to anything in particular, version '\n",
      " 'b immediately suggests that the prior paragraph addresses the biological '\n",
      " 'pathway (i.e.',\n",
      " 'etiology) of a disease and that the new paragraph will bolster the emerging '\n",
      " 'hypothesis with a different kind of evidence.',\n",
      " 'as a reader, it’s easy to keep track of how the paragraph about cells and '\n",
      " 'chemicals and such relates to the paragraph about populations in different '\n",
      " 'places.',\n",
      " 'a last thing to note about key sentences is that academic readers expect '\n",
      " 'them to be at the beginning of the paragraph.',\n",
      " '(the first sentence this paragraph is a good example of this in action!)',\n",
      " 'this placement helps readers comprehend your argument.',\n",
      " 'to see how, try this: find an academic piece (such as a textbook or '\n",
      " 'scholarly article) that strikes you as well written and go through part of '\n",
      " 'it reading just the first sentence of each paragraph.',\n",
      " 'you should be able to easily follow the sequence of logic.',\n",
      " 'when you’re writing for professors, it is especially effective to put your '\n",
      " 'key sentences first because they usually convey your own original thinking.',\n",
      " 'it’s a very good sign when your paragraphs are typically composed of a '\n",
      " 'telling key sentence followed by evidence and explanation.',\n",
      " 'knowing this convention of academic writing can help you both read and write '\n",
      " 'more effectively.',\n",
      " 'when you’re reading a complicated academic piece for the first time, you '\n",
      " 'might want to go through reading only the first sentence or two of each '\n",
      " 'paragraph to get the overall outline of the argument.',\n",
      " 'then you can go back and read all of it with a clearer picture of how each '\n",
      " 'of the details fit in.',\n",
      " 'and when you’re writing, you may also find it useful to write the first '\n",
      " 'sentence of each paragraph (instead of a topic-based outline) to map out a '\n",
      " 'thorough argument before getting immersed in sentence-level wordsmithing.']\n"
     ]
    }
   ],
   "source": [
    "from pprint import pprint\n",
    "sentences = nltk.sent_tokenize(text)\n",
    "pprint(sentences)"
   ]
  },
  {
   "cell_type": "code",
   "execution_count": 62,
   "metadata": {},
   "outputs": [
    {
     "name": "stdout",
     "output_type": "stream",
     "text": [
      "[['both', 'versions', 'convey', 'a', 'topic', ';', 'it', '’', 's', 'pretty', 'easy', 'to', 'predict', 'that', 'the', 'paragraph', 'will', 'be', 'about', 'epidemiological', 'evidence', ',', 'but', 'only', 'the', 'second', 'version', 'establishes', 'an', 'argumentative', 'point', 'and', 'puts', 'it', 'in', 'context', '.'], ['the', 'paragraph', 'doesn', '’', 't', 'just', 'describe', 'the', 'epidemiological', 'evidence', ';', 'it', 'shows', 'how', 'epidemiology', 'is', 'telling', 'the', 'same', 'story', 'as', 'etiology', '.'], ['similarly', ',', 'while', 'version', 'a', 'doesn', '’', 't', 'relate', 'to', 'anything', 'in', 'particular', ',', 'version', 'b', 'immediately', 'suggests', 'that', 'the', 'prior', 'paragraph', 'addresses', 'the', 'biological', 'pathway', '(', 'i.e', '.'], ['etiology', ')', 'of', 'a', 'disease', 'and', 'that', 'the', 'new', 'paragraph', 'will', 'bolster', 'the', 'emerging', 'hypothesis', 'with', 'a', 'different', 'kind', 'of', 'evidence', '.'], ['as', 'a', 'reader', ',', 'it', '’', 's', 'easy', 'to', 'keep', 'track', 'of', 'how', 'the', 'paragraph', 'about', 'cells', 'and', 'chemicals', 'and', 'such', 'relates', 'to', 'the', 'paragraph', 'about', 'populations', 'in', 'different', 'places', '.'], ['a', 'last', 'thing', 'to', 'note', 'about', 'key', 'sentences', 'is', 'that', 'academic', 'readers', 'expect', 'them', 'to', 'be', 'at', 'the', 'beginning', 'of', 'the', 'paragraph', '.'], ['(', 'the', 'first', 'sentence', 'this', 'paragraph', 'is', 'a', 'good', 'example', 'of', 'this', 'in', 'action', '!', ')'], ['this', 'placement', 'helps', 'readers', 'comprehend', 'your', 'argument', '.'], ['to', 'see', 'how', ',', 'try', 'this', ':', 'find', 'an', 'academic', 'piece', '(', 'such', 'as', 'a', 'textbook', 'or', 'scholarly', 'article', ')', 'that', 'strikes', 'you', 'as', 'well', 'written', 'and', 'go', 'through', 'part', 'of', 'it', 'reading', 'just', 'the', 'first', 'sentence', 'of', 'each', 'paragraph', '.'], ['you', 'should', 'be', 'able', 'to', 'easily', 'follow', 'the', 'sequence', 'of', 'logic', '.'], ['when', 'you', '’', 're', 'writing', 'for', 'professors', ',', 'it', 'is', 'especially', 'effective', 'to', 'put', 'your', 'key', 'sentences', 'first', 'because', 'they', 'usually', 'convey', 'your', 'own', 'original', 'thinking', '.'], ['it', '’', 's', 'a', 'very', 'good', 'sign', 'when', 'your', 'paragraphs', 'are', 'typically', 'composed', 'of', 'a', 'telling', 'key', 'sentence', 'followed', 'by', 'evidence', 'and', 'explanation', '.'], ['knowing', 'this', 'convention', 'of', 'academic', 'writing', 'can', 'help', 'you', 'both', 'read', 'and', 'write', 'more', 'effectively', '.'], ['when', 'you', '’', 're', 'reading', 'a', 'complicated', 'academic', 'piece', 'for', 'the', 'first', 'time', ',', 'you', 'might', 'want', 'to', 'go', 'through', 'reading', 'only', 'the', 'first', 'sentence', 'or', 'two', 'of', 'each', 'paragraph', 'to', 'get', 'the', 'overall', 'outline', 'of', 'the', 'argument', '.'], ['then', 'you', 'can', 'go', 'back', 'and', 'read', 'all', 'of', 'it', 'with', 'a', 'clearer', 'picture', 'of', 'how', 'each', 'of', 'the', 'details', 'fit', 'in', '.'], ['and', 'when', 'you', '’', 're', 'writing', ',', 'you', 'may', 'also', 'find', 'it', 'useful', 'to', 'write', 'the', 'first', 'sentence', 'of', 'each', 'paragraph', '(', 'instead', 'of', 'a', 'topic-based', 'outline', ')', 'to', 'map', 'out', 'a', 'thorough', 'argument', 'before', 'getting', 'immersed', 'in', 'sentence-level', 'wordsmithing', '.']]\n"
     ]
    }
   ],
   "source": [
    "sentences = [nltk.word_tokenize(sent) for sent in sentences]\n",
    "print(sentences)"
   ]
  },
  {
   "cell_type": "code",
   "execution_count": 63,
   "metadata": {},
   "outputs": [],
   "source": [
    "for i in range(len(sentences)):\n",
    "    sentences[i] = [word for word in sentences[i] if word not in stopwords.words('english')]"
   ]
  },
  {
   "cell_type": "code",
   "execution_count": 64,
   "metadata": {},
   "outputs": [
    {
     "name": "stdout",
     "output_type": "stream",
     "text": [
      "[['versions', 'convey', 'topic', ';', '’', 'pretty', 'easy', 'predict', 'paragraph', 'epidemiological', 'evidence', ',', 'second', 'version', 'establishes', 'argumentative', 'point', 'puts', 'context', '.'], ['paragraph', '’', 'describe', 'epidemiological', 'evidence', ';', 'shows', 'epidemiology', 'telling', 'story', 'etiology', '.'], ['similarly', ',', 'version', '’', 'relate', 'anything', 'particular', ',', 'version', 'b', 'immediately', 'suggests', 'prior', 'paragraph', 'addresses', 'biological', 'pathway', '(', 'i.e', '.'], ['etiology', ')', 'disease', 'new', 'paragraph', 'bolster', 'emerging', 'hypothesis', 'different', 'kind', 'evidence', '.'], ['reader', ',', '’', 'easy', 'keep', 'track', 'paragraph', 'cells', 'chemicals', 'relates', 'paragraph', 'populations', 'different', 'places', '.'], ['last', 'thing', 'note', 'key', 'sentences', 'academic', 'readers', 'expect', 'beginning', 'paragraph', '.'], ['(', 'first', 'sentence', 'paragraph', 'good', 'example', 'action', '!', ')'], ['placement', 'helps', 'readers', 'comprehend', 'argument', '.'], ['see', ',', 'try', ':', 'find', 'academic', 'piece', '(', 'textbook', 'scholarly', 'article', ')', 'strikes', 'well', 'written', 'go', 'part', 'reading', 'first', 'sentence', 'paragraph', '.'], ['able', 'easily', 'follow', 'sequence', 'logic', '.'], ['’', 'writing', 'professors', ',', 'especially', 'effective', 'put', 'key', 'sentences', 'first', 'usually', 'convey', 'original', 'thinking', '.'], ['’', 'good', 'sign', 'paragraphs', 'typically', 'composed', 'telling', 'key', 'sentence', 'followed', 'evidence', 'explanation', '.'], ['knowing', 'convention', 'academic', 'writing', 'help', 'read', 'write', 'effectively', '.'], ['’', 'reading', 'complicated', 'academic', 'piece', 'first', 'time', ',', 'might', 'want', 'go', 'reading', 'first', 'sentence', 'two', 'paragraph', 'get', 'overall', 'outline', 'argument', '.'], ['go', 'back', 'read', 'clearer', 'picture', 'details', 'fit', '.'], ['’', 'writing', ',', 'may', 'also', 'find', 'useful', 'write', 'first', 'sentence', 'paragraph', '(', 'instead', 'topic-based', 'outline', ')', 'map', 'thorough', 'argument', 'getting', 'immersed', 'sentence-level', 'wordsmithing', '.']]\n"
     ]
    }
   ],
   "source": [
    "print(sentences)\n"
   ]
  },
  {
   "cell_type": "code",
   "execution_count": 66,
   "metadata": {},
   "outputs": [
    {
     "name": "stdout",
     "output_type": "stream",
     "text": [
      "[['versions', 'convey', 'topic', '’', 'pretty', 'easy', 'predict', 'paragraph', 'epidemiological', 'evidence', 'second', 'version', 'establishes', 'argumentative', 'point', 'puts', 'context'], ['paragraph', 'describe', 'epidemiological', 'evidence', 'shows', 'epidemiology', 'telling', 'story', 'etiology'], ['similarly', 'version', 'relate', 'anything', 'particular', 'version', 'b', 'immediately', 'suggests', 'prior', 'paragraph', 'addresses', 'biological', 'pathway', 'i.e'], ['etiology', 'disease', 'new', 'paragraph', 'bolster', 'emerging', 'hypothesis', 'different', 'kind', 'evidence'], ['reader', '’', 'easy', 'keep', 'track', 'paragraph', 'cells', 'chemicals', 'relates', 'paragraph', 'populations', 'different', 'places'], ['last', 'thing', 'note', 'key', 'sentences', 'academic', 'readers', 'expect', 'beginning', 'paragraph'], ['first', 'sentence', 'paragraph', 'good', 'example', 'action', ')'], ['placement', 'helps', 'readers', 'comprehend', 'argument'], ['see', 'try', 'find', 'academic', 'piece', 'textbook', 'scholarly', 'article', 'strikes', 'well', 'written', 'go', 'part', 'reading', 'first', 'sentence', 'paragraph'], ['able', 'easily', 'follow', 'sequence', 'logic'], ['writing', 'professors', 'especially', 'effective', 'put', 'key', 'sentences', 'first', 'usually', 'convey', 'original', 'thinking'], ['good', 'sign', 'paragraphs', 'typically', 'composed', 'telling', 'key', 'sentence', 'followed', 'evidence', 'explanation'], ['knowing', 'convention', 'academic', 'writing', 'help', 'read', 'write', 'effectively'], ['reading', 'complicated', 'academic', 'piece', 'first', 'time', 'might', 'want', 'go', 'reading', 'first', 'sentence', 'two', 'paragraph', 'get', 'overall', 'outline', 'argument'], ['go', 'back', 'read', 'clearer', 'picture', 'details', 'fit'], ['writing', 'may', 'also', 'find', 'useful', 'write', 'first', 'sentence', 'paragraph', 'instead', 'outline', 'map', 'thorough', 'argument', 'getting', 'immersed', 'wordsmithing']]\n"
     ]
    }
   ],
   "source": [
    "# punct = ['.', ',', ':', ';', ')', '(', \"'\", '!']\n",
    "for lst in sentences:\n",
    "    for i in lst:\n",
    "        if not i.isalpha():\n",
    "            lst.remove(i)\n",
    "print(sentences)\n",
    "    "
   ]
  },
  {
   "cell_type": "code",
   "execution_count": 68,
   "metadata": {},
   "outputs": [],
   "source": [
    "model = Word2Vec(sentences, min_count = 1)"
   ]
  },
  {
   "cell_type": "code",
   "execution_count": 69,
   "metadata": {},
   "outputs": [],
   "source": [
    "words = model.wv.vocab"
   ]
  },
  {
   "cell_type": "code",
   "execution_count": 71,
   "metadata": {},
   "outputs": [
    {
     "name": "stdout",
     "output_type": "stream",
     "text": [
      "[-4.7831354e-03  1.9258494e-03  2.2690233e-03  9.6385437e-04\n",
      "  1.5481039e-04  1.4193387e-03 -3.2685734e-03  3.3936093e-03\n",
      "  1.3996168e-03 -4.4801459e-04  4.6747392e-03 -9.8415324e-04\n",
      "  2.8188140e-03 -3.4594594e-03  1.6670319e-03  6.4559904e-04\n",
      " -1.4783324e-04  5.9634726e-04 -8.2526251e-04  2.2738946e-03\n",
      " -9.3870069e-05  1.4686199e-04 -4.4874246e-03  4.4428599e-03\n",
      " -1.9598380e-03 -4.8874500e-03 -4.8654861e-04 -4.4671590e-03\n",
      "  1.9797171e-03  1.4164044e-03 -3.1330027e-03  7.3597126e-04\n",
      "  1.0406176e-03  2.1995369e-03 -9.3446882e-04  4.3621445e-03\n",
      "  2.8369334e-03  1.0081196e-03 -2.9939432e-03 -3.2562045e-03\n",
      " -4.5040403e-03  1.4970850e-03 -2.0740798e-03  2.6409458e-03\n",
      " -4.0755654e-03 -2.9060743e-03 -1.8481270e-04 -3.5962395e-03\n",
      " -3.0433163e-03  2.7146363e-03  1.8776717e-04  4.3651839e-03\n",
      "  1.3989707e-03 -4.9131615e-03  2.2986699e-03 -2.8463320e-03\n",
      " -3.4456332e-03  4.2923647e-03 -3.7517503e-03 -3.0688371e-03\n",
      "  9.7168353e-04  2.7198370e-03 -4.9945521e-03  3.6670950e-03\n",
      "  1.2017371e-03 -4.4229692e-03  3.7894263e-03 -2.8606053e-03\n",
      " -4.9464907e-03  3.2846075e-03  9.9928619e-04  3.7723812e-03\n",
      "  2.7051924e-03  3.7236877e-03  1.3570978e-03 -4.1980241e-04\n",
      "  5.0202836e-03 -2.2005117e-03  4.2669973e-03  9.4136997e-04\n",
      " -3.1750265e-03 -3.6832725e-03 -4.2756316e-03  4.6340427e-03\n",
      " -3.6743686e-03 -2.8234296e-03  4.9330043e-03 -4.1755768e-03\n",
      "  3.3033774e-03  4.0177898e-03 -9.5394620e-04 -2.8179158e-03\n",
      " -1.6630417e-03  9.9645916e-04  7.0296670e-04 -1.4895500e-03\n",
      "  3.7120138e-03 -4.8536314e-03 -4.6114274e-03 -2.9920207e-03]\n"
     ]
    }
   ],
   "source": [
    "vector = model.wv['academic']\n",
    "print(vector)"
   ]
  },
  {
   "cell_type": "code",
   "execution_count": 72,
   "metadata": {},
   "outputs": [
    {
     "name": "stdout",
     "output_type": "stream",
     "text": [
      "[('b', 0.21976356208324432), ('note', 0.19822518527507782), ('sentences', 0.19404885172843933), ('well', 0.17615807056427002), ('immediately', 0.17176155745983124), ('places', 0.1710282862186432), ('immersed', 0.15968212485313416), ('argument', 0.15752238035202026), ('sentence', 0.15680524706840515), ('point', 0.14106342196464539)]\n"
     ]
    }
   ],
   "source": [
    "similar = model.wv.most_similar('academic')\n",
    "print(similar)"
   ]
  },
  {
   "cell_type": "code",
   "execution_count": null,
   "metadata": {},
   "outputs": [],
   "source": []
  }
 ],
 "metadata": {
  "kernelspec": {
   "display_name": "Python 3",
   "language": "python",
   "name": "python3"
  },
  "language_info": {
   "codemirror_mode": {
    "name": "ipython",
    "version": 3
   },
   "file_extension": ".py",
   "mimetype": "text/x-python",
   "name": "python",
   "nbconvert_exporter": "python",
   "pygments_lexer": "ipython3",
   "version": "3.7.6"
  }
 },
 "nbformat": 4,
 "nbformat_minor": 4
}
