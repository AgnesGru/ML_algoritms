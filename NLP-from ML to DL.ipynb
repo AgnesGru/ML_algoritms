{
 "cells": [
  {
   "cell_type": "markdown",
   "metadata": {},
   "source": [
    "# NLTK"
   ]
  },
  {
   "cell_type": "code",
   "execution_count": 1,
   "metadata": {},
   "outputs": [
    {
     "name": "stderr",
     "output_type": "stream",
     "text": [
      "[nltk_data] Downloading collection 'popular'\n",
      "[nltk_data]    | \n",
      "[nltk_data]    | Downloading package cmudict to\n",
      "[nltk_data]    |     C:\\Users\\User\\AppData\\Roaming\\nltk_data...\n",
      "[nltk_data]    |   Package cmudict is already up-to-date!\n",
      "[nltk_data]    | Downloading package gazetteers to\n",
      "[nltk_data]    |     C:\\Users\\User\\AppData\\Roaming\\nltk_data...\n",
      "[nltk_data]    |   Package gazetteers is already up-to-date!\n",
      "[nltk_data]    | Downloading package genesis to\n",
      "[nltk_data]    |     C:\\Users\\User\\AppData\\Roaming\\nltk_data...\n",
      "[nltk_data]    |   Package genesis is already up-to-date!\n",
      "[nltk_data]    | Downloading package gutenberg to\n",
      "[nltk_data]    |     C:\\Users\\User\\AppData\\Roaming\\nltk_data...\n",
      "[nltk_data]    |   Package gutenberg is already up-to-date!\n",
      "[nltk_data]    | Downloading package inaugural to\n",
      "[nltk_data]    |     C:\\Users\\User\\AppData\\Roaming\\nltk_data...\n",
      "[nltk_data]    |   Package inaugural is already up-to-date!\n",
      "[nltk_data]    | Downloading package movie_reviews to\n",
      "[nltk_data]    |     C:\\Users\\User\\AppData\\Roaming\\nltk_data...\n",
      "[nltk_data]    |   Package movie_reviews is already up-to-date!\n",
      "[nltk_data]    | Downloading package names to\n",
      "[nltk_data]    |     C:\\Users\\User\\AppData\\Roaming\\nltk_data...\n",
      "[nltk_data]    |   Package names is already up-to-date!\n",
      "[nltk_data]    | Downloading package shakespeare to\n",
      "[nltk_data]    |     C:\\Users\\User\\AppData\\Roaming\\nltk_data...\n",
      "[nltk_data]    |   Package shakespeare is already up-to-date!\n",
      "[nltk_data]    | Downloading package stopwords to\n",
      "[nltk_data]    |     C:\\Users\\User\\AppData\\Roaming\\nltk_data...\n",
      "[nltk_data]    |   Package stopwords is already up-to-date!\n",
      "[nltk_data]    | Downloading package treebank to\n",
      "[nltk_data]    |     C:\\Users\\User\\AppData\\Roaming\\nltk_data...\n",
      "[nltk_data]    |   Package treebank is already up-to-date!\n",
      "[nltk_data]    | Downloading package twitter_samples to\n",
      "[nltk_data]    |     C:\\Users\\User\\AppData\\Roaming\\nltk_data...\n",
      "[nltk_data]    |   Package twitter_samples is already up-to-date!\n",
      "[nltk_data]    | Downloading package omw to\n",
      "[nltk_data]    |     C:\\Users\\User\\AppData\\Roaming\\nltk_data...\n",
      "[nltk_data]    |   Package omw is already up-to-date!\n",
      "[nltk_data]    | Downloading package wordnet to\n",
      "[nltk_data]    |     C:\\Users\\User\\AppData\\Roaming\\nltk_data...\n",
      "[nltk_data]    |   Package wordnet is already up-to-date!\n",
      "[nltk_data]    | Downloading package wordnet_ic to\n",
      "[nltk_data]    |     C:\\Users\\User\\AppData\\Roaming\\nltk_data...\n",
      "[nltk_data]    |   Package wordnet_ic is already up-to-date!\n",
      "[nltk_data]    | Downloading package words to\n",
      "[nltk_data]    |     C:\\Users\\User\\AppData\\Roaming\\nltk_data...\n",
      "[nltk_data]    |   Package words is already up-to-date!\n",
      "[nltk_data]    | Downloading package maxent_ne_chunker to\n",
      "[nltk_data]    |     C:\\Users\\User\\AppData\\Roaming\\nltk_data...\n",
      "[nltk_data]    |   Package maxent_ne_chunker is already up-to-date!\n",
      "[nltk_data]    | Downloading package punkt to\n",
      "[nltk_data]    |     C:\\Users\\User\\AppData\\Roaming\\nltk_data...\n",
      "[nltk_data]    |   Package punkt is already up-to-date!\n",
      "[nltk_data]    | Downloading package snowball_data to\n",
      "[nltk_data]    |     C:\\Users\\User\\AppData\\Roaming\\nltk_data...\n",
      "[nltk_data]    |   Package snowball_data is already up-to-date!\n",
      "[nltk_data]    | Downloading package averaged_perceptron_tagger to\n",
      "[nltk_data]    |     C:\\Users\\User\\AppData\\Roaming\\nltk_data...\n",
      "[nltk_data]    |   Package averaged_perceptron_tagger is already up-\n",
      "[nltk_data]    |       to-date!\n",
      "[nltk_data]    | \n",
      "[nltk_data]  Done downloading collection popular\n"
     ]
    },
    {
     "data": {
      "text/plain": [
       "True"
      ]
     },
     "execution_count": 1,
     "metadata": {},
     "output_type": "execute_result"
    }
   ],
   "source": [
    "import nltk\n",
    "import pandas as pd\n",
    "import numpy as np\n",
    "nltk.download('popular')"
   ]
  },
  {
   "cell_type": "markdown",
   "metadata": {},
   "source": [
    "### Tokenization"
   ]
  },
  {
   "cell_type": "code",
   "execution_count": 3,
   "metadata": {},
   "outputs": [],
   "source": [
    "paragraph = \"\"\"Both versions convey a topic; it’s pretty easy to predict that the paragraph will be about epidemiological \n",
    "evidence, but only the second version establishes an argumentative point and puts it in context. The paragraph doesn’t \n",
    "just describe the epidemiological evidence; it shows how epidemiology is telling the same story as etiology. Similarly, \n",
    "while Version A doesn’t relate to anything in particular, Version B immediately suggests that the prior paragraph addresses \n",
    "the biological pathway (i.e. etiology) of a disease and that the new paragraph will bolster the emerging hypothesis with a\n",
    "different kind of evidence. As a reader, it’s easy to keep track of how the paragraph about cells and chemicals and such \n",
    "relates to the paragraph about populations in different places. A last thing to note about key sentences is that academic \n",
    "readers expect them to be at the beginning of the paragraph. (The first sentence this paragraph is a good example of this \n",
    "in action!) This placement helps readers comprehend your argument. To see how, try this: find an academic piece (such as a \n",
    "textbook or scholarly article) that strikes you as well written and go through part of it reading just the first sentence of \n",
    "each paragraph. You should be able to easily follow the sequence of logic. When you’re writing for professors, it is especially \n",
    "effective to put your key sentences first because they usually convey your own original thinking. It’s a very good sign when\n",
    "your paragraphs are typically composed of a telling key sentence followed by evidence and explanation.\n",
    "Knowing this convention of academic writing can help you both read and write more effectively. When you’re reading a \n",
    "complicated academic piece for the first time, you might want to go through reading only the first sentence or two of each \n",
    "paragraph to get the overall outline of the argument. Then you can go back and read all of it with a clearer picture of how \n",
    "each of the details fit in. And when you’re writing, you may also find it useful to write the first sentence of each paragraph \n",
    "(instead of a topic-based outline) to map out a thorough argument before getting immersed in sentence-level wordsmithing.\"\"\""
   ]
  },
  {
   "cell_type": "code",
   "execution_count": 4,
   "metadata": {},
   "outputs": [],
   "source": [
    "sentence = nltk.tokenize.sent_tokenize(paragraph)"
   ]
  },
  {
   "cell_type": "code",
   "execution_count": 5,
   "metadata": {},
   "outputs": [
    {
     "name": "stdout",
     "output_type": "stream",
     "text": [
      "['Both versions convey a topic; it’s pretty easy to predict that the paragraph will be about epidemiological \\nevidence, but only the second version establishes an argumentative point and puts it in context.', 'The paragraph doesn’t \\njust describe the epidemiological evidence; it shows how epidemiology is telling the same story as etiology.', 'Similarly, \\nwhile Version A doesn’t relate to anything in particular, Version B immediately suggests that the prior paragraph addresses \\nthe biological pathway (i.e.', 'etiology) of a disease and that the new paragraph will bolster the emerging hypothesis with a\\ndifferent kind of evidence.', 'As a reader, it’s easy to keep track of how the paragraph about cells and chemicals and such \\nrelates to the paragraph about populations in different places.', 'A last thing to note about key sentences is that academic \\nreaders expect them to be at the beginning of the paragraph.', '(The first sentence this paragraph is a good example of this \\nin action!)', 'This placement helps readers comprehend your argument.', 'To see how, try this: find an academic piece (such as a \\ntextbook or scholarly article) that strikes you as well written and go through part of it reading just the first sentence of \\neach paragraph.', 'You should be able to easily follow the sequence of logic.', 'When you’re writing for professors, it is especially \\neffective to put your key sentences first because they usually convey your own original thinking.', 'It’s a very good sign when\\nyour paragraphs are typically composed of a telling key sentence followed by evidence and explanation.', 'Knowing this convention of academic writing can help you both read and write more effectively.', 'When you’re reading a \\ncomplicated academic piece for the first time, you might want to go through reading only the first sentence or two of each \\nparagraph to get the overall outline of the argument.', 'Then you can go back and read all of it with a clearer picture of how \\neach of the details fit in.', 'And when you’re writing, you may also find it useful to write the first sentence of each paragraph \\n(instead of a topic-based outline) to map out a thorough argument before getting immersed in sentence-level wordsmithing.']\n"
     ]
    }
   ],
   "source": [
    "print(sentence)"
   ]
  },
  {
   "cell_type": "code",
   "execution_count": 6,
   "metadata": {},
   "outputs": [
    {
     "name": "stdout",
     "output_type": "stream",
     "text": [
      "['Both', 'versions', 'convey', 'a', 'topic', ';', 'it', '’', 's', 'pretty', 'easy', 'to', 'predict', 'that', 'the', 'paragraph', 'will', 'be', 'about', 'epidemiological', 'evidence', ',', 'but', 'only', 'the', 'second', 'version', 'establishes', 'an', 'argumentative', 'point', 'and', 'puts', 'it', 'in', 'context', '.', 'The', 'paragraph', 'doesn', '’', 't', 'just', 'describe', 'the', 'epidemiological', 'evidence', ';', 'it', 'shows', 'how', 'epidemiology', 'is', 'telling', 'the', 'same', 'story', 'as', 'etiology', '.', 'Similarly', ',', 'while', 'Version', 'A', 'doesn', '’', 't', 'relate', 'to', 'anything', 'in', 'particular', ',', 'Version', 'B', 'immediately', 'suggests', 'that', 'the', 'prior', 'paragraph', 'addresses', 'the', 'biological', 'pathway', '(', 'i.e', '.', 'etiology', ')', 'of', 'a', 'disease', 'and', 'that', 'the', 'new', 'paragraph', 'will', 'bolster', 'the', 'emerging', 'hypothesis', 'with', 'a', 'different', 'kind', 'of', 'evidence', '.', 'As', 'a', 'reader', ',', 'it', '’', 's', 'easy', 'to', 'keep', 'track', 'of', 'how', 'the', 'paragraph', 'about', 'cells', 'and', 'chemicals', 'and', 'such', 'relates', 'to', 'the', 'paragraph', 'about', 'populations', 'in', 'different', 'places', '.', 'A', 'last', 'thing', 'to', 'note', 'about', 'key', 'sentences', 'is', 'that', 'academic', 'readers', 'expect', 'them', 'to', 'be', 'at', 'the', 'beginning', 'of', 'the', 'paragraph', '.', '(', 'The', 'first', 'sentence', 'this', 'paragraph', 'is', 'a', 'good', 'example', 'of', 'this', 'in', 'action', '!', ')', 'This', 'placement', 'helps', 'readers', 'comprehend', 'your', 'argument', '.', 'To', 'see', 'how', ',', 'try', 'this', ':', 'find', 'an', 'academic', 'piece', '(', 'such', 'as', 'a', 'textbook', 'or', 'scholarly', 'article', ')', 'that', 'strikes', 'you', 'as', 'well', 'written', 'and', 'go', 'through', 'part', 'of', 'it', 'reading', 'just', 'the', 'first', 'sentence', 'of', 'each', 'paragraph', '.', 'You', 'should', 'be', 'able', 'to', 'easily', 'follow', 'the', 'sequence', 'of', 'logic', '.', 'When', 'you', '’', 're', 'writing', 'for', 'professors', ',', 'it', 'is', 'especially', 'effective', 'to', 'put', 'your', 'key', 'sentences', 'first', 'because', 'they', 'usually', 'convey', 'your', 'own', 'original', 'thinking', '.', 'It', '’', 's', 'a', 'very', 'good', 'sign', 'when', 'your', 'paragraphs', 'are', 'typically', 'composed', 'of', 'a', 'telling', 'key', 'sentence', 'followed', 'by', 'evidence', 'and', 'explanation', '.', 'Knowing', 'this', 'convention', 'of', 'academic', 'writing', 'can', 'help', 'you', 'both', 'read', 'and', 'write', 'more', 'effectively', '.', 'When', 'you', '’', 're', 'reading', 'a', 'complicated', 'academic', 'piece', 'for', 'the', 'first', 'time', ',', 'you', 'might', 'want', 'to', 'go', 'through', 'reading', 'only', 'the', 'first', 'sentence', 'or', 'two', 'of', 'each', 'paragraph', 'to', 'get', 'the', 'overall', 'outline', 'of', 'the', 'argument', '.', 'Then', 'you', 'can', 'go', 'back', 'and', 'read', 'all', 'of', 'it', 'with', 'a', 'clearer', 'picture', 'of', 'how', 'each', 'of', 'the', 'details', 'fit', 'in', '.', 'And', 'when', 'you', '’', 're', 'writing', ',', 'you', 'may', 'also', 'find', 'it', 'useful', 'to', 'write', 'the', 'first', 'sentence', 'of', 'each', 'paragraph', '(', 'instead', 'of', 'a', 'topic-based', 'outline', ')', 'to', 'map', 'out', 'a', 'thorough', 'argument', 'before', 'getting', 'immersed', 'in', 'sentence-level', 'wordsmithing', '.']\n"
     ]
    }
   ],
   "source": [
    "words = nltk.tokenize.word_tokenize(paragraph)\n",
    "print(words)"
   ]
  },
  {
   "cell_type": "markdown",
   "metadata": {},
   "source": [
    "### Normalization ( in 3 different steps: (1) stemming, (2) lemmatization, and (3) rest)"
   ]
  },
  {
   "cell_type": "code",
   "execution_count": 7,
   "metadata": {},
   "outputs": [
    {
     "name": "stdout",
     "output_type": "stream",
     "text": [
      "['both', 'version', 'convey', 'a', 'topic', ';', 'it', '’', 's', 'pretti', 'easi', 'to', 'predict', 'that', 'the', 'paragraph', 'will', 'be', 'about', 'epidemiolog', 'evid', ',', 'but', 'onli', 'the', 'second', 'version', 'establish', 'an', 'argument', 'point', 'and', 'put', 'it', 'in', 'context', '.', 'the', 'paragraph', 'doesn', '’', 't', 'just', 'describ', 'the', 'epidemiolog', 'evid', ';', 'it', 'show', 'how', 'epidemiolog', 'is', 'tell', 'the', 'same', 'stori', 'as', 'etiolog', '.', 'similarli', ',', 'while', 'version', 'A', 'doesn', '’', 't', 'relat', 'to', 'anyth', 'in', 'particular', ',', 'version', 'B', 'immedi', 'suggest', 'that', 'the', 'prior', 'paragraph', 'address', 'the', 'biolog', 'pathway', '(', 'i.e', '.', 'etiolog', ')', 'of', 'a', 'diseas', 'and', 'that', 'the', 'new', 'paragraph', 'will', 'bolster', 'the', 'emerg', 'hypothesi', 'with', 'a', 'differ', 'kind', 'of', 'evid', '.', 'As', 'a', 'reader', ',', 'it', '’', 's', 'easi', 'to', 'keep', 'track', 'of', 'how', 'the', 'paragraph', 'about', 'cell', 'and', 'chemic', 'and', 'such', 'relat', 'to', 'the', 'paragraph', 'about', 'popul', 'in', 'differ', 'place', '.', 'A', 'last', 'thing', 'to', 'note', 'about', 'key', 'sentenc', 'is', 'that', 'academ', 'reader', 'expect', 'them', 'to', 'be', 'at', 'the', 'begin', 'of', 'the', 'paragraph', '.', '(', 'the', 'first', 'sentenc', 'thi', 'paragraph', 'is', 'a', 'good', 'exampl', 'of', 'thi', 'in', 'action', '!', ')', 'thi', 'placement', 'help', 'reader', 'comprehend', 'your', 'argument', '.', 'To', 'see', 'how', ',', 'tri', 'thi', ':', 'find', 'an', 'academ', 'piec', '(', 'such', 'as', 'a', 'textbook', 'or', 'scholarli', 'articl', ')', 'that', 'strike', 'you', 'as', 'well', 'written', 'and', 'go', 'through', 'part', 'of', 'it', 'read', 'just', 'the', 'first', 'sentenc', 'of', 'each', 'paragraph', '.', 'you', 'should', 'be', 'abl', 'to', 'easili', 'follow', 'the', 'sequenc', 'of', 'logic', '.', 'when', 'you', '’', 're', 'write', 'for', 'professor', ',', 'it', 'is', 'especi', 'effect', 'to', 'put', 'your', 'key', 'sentenc', 'first', 'becaus', 'they', 'usual', 'convey', 'your', 'own', 'origin', 'think', '.', 'It', '’', 's', 'a', 'veri', 'good', 'sign', 'when', 'your', 'paragraph', 'are', 'typic', 'compos', 'of', 'a', 'tell', 'key', 'sentenc', 'follow', 'by', 'evid', 'and', 'explan', '.', 'know', 'thi', 'convent', 'of', 'academ', 'write', 'can', 'help', 'you', 'both', 'read', 'and', 'write', 'more', 'effect', '.', 'when', 'you', '’', 're', 'read', 'a', 'complic', 'academ', 'piec', 'for', 'the', 'first', 'time', ',', 'you', 'might', 'want', 'to', 'go', 'through', 'read', 'onli', 'the', 'first', 'sentenc', 'or', 'two', 'of', 'each', 'paragraph', 'to', 'get', 'the', 'overal', 'outlin', 'of', 'the', 'argument', '.', 'then', 'you', 'can', 'go', 'back', 'and', 'read', 'all', 'of', 'it', 'with', 'a', 'clearer', 'pictur', 'of', 'how', 'each', 'of', 'the', 'detail', 'fit', 'in', '.', 'and', 'when', 'you', '’', 're', 'write', ',', 'you', 'may', 'also', 'find', 'it', 'use', 'to', 'write', 'the', 'first', 'sentenc', 'of', 'each', 'paragraph', '(', 'instead', 'of', 'a', 'topic-bas', 'outlin', ')', 'to', 'map', 'out', 'a', 'thorough', 'argument', 'befor', 'get', 'immers', 'in', 'sentence-level', 'wordsmith', '.']\n"
     ]
    }
   ],
   "source": [
    "from nltk.stem.porter import PorterStemmer  # stemming\n",
    "porter = PorterStemmer()\n",
    "stemmed = [porter.stem(word) for word in words]\n",
    "print(stemmed)"
   ]
  },
  {
   "cell_type": "code",
   "execution_count": 8,
   "metadata": {},
   "outputs": [],
   "source": [
    "lower_case = [w.lower() for w in stemmed] # make lower_case"
   ]
  },
  {
   "cell_type": "code",
   "execution_count": 9,
   "metadata": {},
   "outputs": [
    {
     "name": "stdout",
     "output_type": "stream",
     "text": [
      "['both', 'version', 'convey', 'a', 'topic', 'it', 's', 'pretti', 'easi', 'to', 'predict', 'that', 'the', 'paragraph', 'will', 'be', 'about', 'epidemiolog', 'evid', 'but', 'onli', 'the', 'second', 'version', 'establish', 'an', 'argument', 'point', 'and', 'put', 'it', 'in', 'context', 'the', 'paragraph', 'doesn', 't', 'just', 'describ', 'the', 'epidemiolog', 'evid', 'it', 'show', 'how', 'epidemiolog', 'is', 'tell', 'the', 'same', 'stori', 'as', 'etiolog', 'similarli', 'while', 'version', 'a', 'doesn', 't', 'relat', 'to', 'anyth', 'in', 'particular', 'version', 'b', 'immedi', 'suggest', 'that', 'the', 'prior', 'paragraph', 'address', 'the', 'biolog', 'pathway', 'etiolog', 'of', 'a', 'diseas', 'and', 'that', 'the', 'new', 'paragraph', 'will', 'bolster', 'the', 'emerg', 'hypothesi', 'with', 'a', 'differ', 'kind', 'of', 'evid', 'as', 'a', 'reader', 'it', 's', 'easi', 'to', 'keep', 'track', 'of', 'how', 'the', 'paragraph', 'about', 'cell', 'and', 'chemic', 'and', 'such', 'relat', 'to', 'the', 'paragraph', 'about', 'popul', 'in', 'differ', 'place', 'a', 'last', 'thing', 'to', 'note', 'about', 'key', 'sentenc', 'is', 'that', 'academ', 'reader', 'expect', 'them', 'to', 'be', 'at', 'the', 'begin', 'of', 'the', 'paragraph', 'the', 'first', 'sentenc', 'thi', 'paragraph', 'is', 'a', 'good', 'exampl', 'of', 'thi', 'in', 'action', 'thi', 'placement', 'help', 'reader', 'comprehend', 'your', 'argument', 'to', 'see', 'how', 'tri', 'thi', 'find', 'an', 'academ', 'piec', 'such', 'as', 'a', 'textbook', 'or', 'scholarli', 'articl', 'that', 'strike', 'you', 'as', 'well', 'written', 'and', 'go', 'through', 'part', 'of', 'it', 'read', 'just', 'the', 'first', 'sentenc', 'of', 'each', 'paragraph', 'you', 'should', 'be', 'abl', 'to', 'easili', 'follow', 'the', 'sequenc', 'of', 'logic', 'when', 'you', 're', 'write', 'for', 'professor', 'it', 'is', 'especi', 'effect', 'to', 'put', 'your', 'key', 'sentenc', 'first', 'becaus', 'they', 'usual', 'convey', 'your', 'own', 'origin', 'think', 'it', 's', 'a', 'veri', 'good', 'sign', 'when', 'your', 'paragraph', 'are', 'typic', 'compos', 'of', 'a', 'tell', 'key', 'sentenc', 'follow', 'by', 'evid', 'and', 'explan', 'know', 'thi', 'convent', 'of', 'academ', 'write', 'can', 'help', 'you', 'both', 'read', 'and', 'write', 'more', 'effect', 'when', 'you', 're', 'read', 'a', 'complic', 'academ', 'piec', 'for', 'the', 'first', 'time', 'you', 'might', 'want', 'to', 'go', 'through', 'read', 'onli', 'the', 'first', 'sentenc', 'or', 'two', 'of', 'each', 'paragraph', 'to', 'get', 'the', 'overal', 'outlin', 'of', 'the', 'argument', 'then', 'you', 'can', 'go', 'back', 'and', 'read', 'all', 'of', 'it', 'with', 'a', 'clearer', 'pictur', 'of', 'how', 'each', 'of', 'the', 'detail', 'fit', 'in', 'and', 'when', 'you', 're', 'write', 'you', 'may', 'also', 'find', 'it', 'use', 'to', 'write', 'the', 'first', 'sentenc', 'of', 'each', 'paragraph', 'instead', 'of', 'a', 'outlin', 'to', 'map', 'out', 'a', 'thorough', 'argument', 'befor', 'get', 'immers', 'in', 'wordsmith']\n"
     ]
    }
   ],
   "source": [
    "no_intern = [word for word in lower_case if word.isalpha()] # remove punctuation\n",
    "print(no_intern)"
   ]
  },
  {
   "cell_type": "code",
   "execution_count": 10,
   "metadata": {},
   "outputs": [
    {
     "name": "stdout",
     "output_type": "stream",
     "text": [
      "['version', 'convey', 'topic', 'pretti', 'easi', 'predict', 'paragraph', 'epidemiolog', 'evid', 'onli', 'second', 'version', 'establish', 'argument', 'point', 'put', 'context', 'paragraph', 'describ', 'epidemiolog', 'evid', 'show', 'epidemiolog', 'tell', 'stori', 'etiolog', 'similarli', 'version', 'relat', 'anyth', 'particular', 'version', 'b', 'immedi', 'suggest', 'prior', 'paragraph', 'address', 'biolog', 'pathway', 'etiolog', 'diseas', 'new', 'paragraph', 'bolster', 'emerg', 'hypothesi', 'differ', 'kind', 'evid', 'reader', 'easi', 'keep', 'track', 'paragraph', 'cell', 'chemic', 'relat', 'paragraph', 'popul', 'differ', 'place', 'last', 'thing', 'note', 'key', 'sentenc', 'academ', 'reader', 'expect', 'begin', 'paragraph', 'first', 'sentenc', 'thi', 'paragraph', 'good', 'exampl', 'thi', 'action', 'thi', 'placement', 'help', 'reader', 'comprehend', 'argument', 'see', 'tri', 'thi', 'find', 'academ', 'piec', 'textbook', 'scholarli', 'articl', 'strike', 'well', 'written', 'go', 'part', 'read', 'first', 'sentenc', 'paragraph', 'abl', 'easili', 'follow', 'sequenc', 'logic', 'write', 'professor', 'especi', 'effect', 'put', 'key', 'sentenc', 'first', 'becaus', 'usual', 'convey', 'origin', 'think', 'veri', 'good', 'sign', 'paragraph', 'typic', 'compos', 'tell', 'key', 'sentenc', 'follow', 'evid', 'explan', 'know', 'thi', 'convent', 'academ', 'write', 'help', 'read', 'write', 'effect', 'read', 'complic', 'academ', 'piec', 'first', 'time', 'might', 'want', 'go', 'read', 'onli', 'first', 'sentenc', 'two', 'paragraph', 'get', 'overal', 'outlin', 'argument', 'go', 'back', 'read', 'clearer', 'pictur', 'detail', 'fit', 'write', 'may', 'also', 'find', 'use', 'write', 'first', 'sentenc', 'paragraph', 'instead', 'outlin', 'map', 'thorough', 'argument', 'befor', 'get', 'immers', 'wordsmith']\n"
     ]
    }
   ],
   "source": [
    "from nltk.corpus import stopwords\n",
    "stop_words = set(stopwords.words('english'))\n",
    "words = [w for w in no_intern if not w in stop_words]\n",
    "print(words)"
   ]
  },
  {
   "cell_type": "markdown",
   "metadata": {},
   "source": [
    "### Sentences without stop words"
   ]
  },
  {
   "cell_type": "code",
   "execution_count": 11,
   "metadata": {},
   "outputs": [
    {
     "name": "stdout",
     "output_type": "stream",
     "text": [
      "16\n"
     ]
    }
   ],
   "source": [
    "print(len(sentence))"
   ]
  },
  {
   "cell_type": "code",
   "execution_count": 12,
   "metadata": {},
   "outputs": [],
   "source": [
    "for sent in range(len(sentence)):\n",
    "    words = nltk.tokenize.word_tokenize(sentence[sent])\n",
    "    words = [porter.stem(word) for word in words if word not in set(stopwords.words('english'))]\n",
    "    sentence[sent] = ' '.join(words)"
   ]
  },
  {
   "cell_type": "code",
   "execution_count": 13,
   "metadata": {},
   "outputs": [
    {
     "name": "stdout",
     "output_type": "stream",
     "text": [
      "['both version convey topic ; ’ pretti easi predict paragraph epidemiolog evid , second version establish argument point put context .', 'the paragraph ’ describ epidemiolog evid ; show epidemiolog tell stori etiolog .', 'similarli , version A ’ relat anyth particular , version B immedi suggest prior paragraph address biolog pathway ( i.e .', 'etiolog ) diseas new paragraph bolster emerg hypothesi differ kind evid .', 'As reader , ’ easi keep track paragraph cell chemic relat paragraph popul differ place .', 'A last thing note key sentenc academ reader expect begin paragraph .', '( the first sentenc paragraph good exampl action ! )', 'thi placement help reader comprehend argument .', 'To see , tri : find academ piec ( textbook scholarli articl ) strike well written go part read first sentenc paragraph .', 'you abl easili follow sequenc logic .', 'when ’ write professor , especi effect put key sentenc first usual convey origin think .', 'It ’ good sign paragraph typic compos tell key sentenc follow evid explan .', 'know convent academ write help read write effect .', 'when ’ read complic academ piec first time , might want go read first sentenc two paragraph get overal outlin argument .', 'then go back read clearer pictur detail fit .', 'and ’ write , may also find use write first sentenc paragraph ( instead topic-bas outlin ) map thorough argument get immers sentence-level wordsmith .']\n"
     ]
    }
   ],
   "source": [
    "print(sentence)"
   ]
  },
  {
   "cell_type": "markdown",
   "metadata": {},
   "source": [
    "### Lemmatization \n",
    "(it does what stemm does but gives the output which ist understandable for human)"
   ]
  },
  {
   "cell_type": "code",
   "execution_count": 14,
   "metadata": {},
   "outputs": [],
   "source": [
    "from nltk.stem import WordNetLemmatizer\n",
    "from nltk.corpus import stopwords"
   ]
  },
  {
   "cell_type": "code",
   "execution_count": 15,
   "metadata": {},
   "outputs": [],
   "source": [
    "lemmatizer = WordNetLemmatizer()\n",
    "sentence = nltk.sent_tokenize(paragraph)"
   ]
  },
  {
   "cell_type": "code",
   "execution_count": 16,
   "metadata": {},
   "outputs": [
    {
     "name": "stdout",
     "output_type": "stream",
     "text": [
      "['Both version convey topic ; ’ pretty easy predict paragraph epidemiological evidence , second version establishes argumentative point put context .', 'The paragraph ’ describe epidemiological evidence ; show epidemiology telling story etiology .', 'Similarly , Version A ’ relate anything particular , Version B immediately suggests prior paragraph address biological pathway ( i.e .', 'etiology ) disease new paragraph bolster emerging hypothesis different kind evidence .', 'As reader , ’ easy keep track paragraph cell chemical relates paragraph population different place .', 'A last thing note key sentence academic reader expect beginning paragraph .', '( The first sentence paragraph good example action ! )', 'This placement help reader comprehend argument .', 'To see , try : find academic piece ( textbook scholarly article ) strike well written go part reading first sentence paragraph .', 'You able easily follow sequence logic .', 'When ’ writing professor , especially effective put key sentence first usually convey original thinking .', 'It ’ good sign paragraph typically composed telling key sentence followed evidence explanation .', 'Knowing convention academic writing help read write effectively .', 'When ’ reading complicated academic piece first time , might want go reading first sentence two paragraph get overall outline argument .', 'Then go back read clearer picture detail fit .', 'And ’ writing , may also find useful write first sentence paragraph ( instead topic-based outline ) map thorough argument getting immersed sentence-level wordsmithing .']\n"
     ]
    }
   ],
   "source": [
    "for sent in range(len(sentence)):\n",
    "    words = nltk.word_tokenize(sentence[sent])\n",
    "    words = [lemmatizer.lemmatize(word) for word in words if word not in set(stopwords.words('english'))]\n",
    "    sentence[sent] = ' '.join(words)\n",
    "print(sentence)"
   ]
  },
  {
   "cell_type": "code",
   "execution_count": 17,
   "metadata": {},
   "outputs": [
    {
     "name": "stdout",
     "output_type": "stream",
     "text": [
      "['both version convey topic ; ’ pretty easy predict paragraph epidemiological evidence , second version establishes argumentative point put context .', 'the paragraph ’ describe epidemiological evidence ; show epidemiology telling story etiology .', 'similarly , version a ’ relate anything particular , version b immediately suggests prior paragraph address biological pathway ( i.e .', 'etiology ) disease new paragraph bolster emerging hypothesis different kind evidence .', 'as reader , ’ easy keep track paragraph cell chemical relates paragraph population different place .', 'a last thing note key sentence academic reader expect beginning paragraph .', '( the first sentence paragraph good example action ! )', 'this placement help reader comprehend argument .', 'to see , try : find academic piece ( textbook scholarly article ) strike well written go part reading first sentence paragraph .', 'you able easily follow sequence logic .', 'when ’ writing professor , especially effective put key sentence first usually convey original thinking .', 'it ’ good sign paragraph typically composed telling key sentence followed evidence explanation .', 'knowing convention academic writing help read write effectively .', 'when ’ reading complicated academic piece first time , might want go reading first sentence two paragraph get overall outline argument .', 'then go back read clearer picture detail fit .', 'and ’ writing , may also find useful write first sentence paragraph ( instead topic-based outline ) map thorough argument getting immersed sentence-level wordsmithing .']\n"
     ]
    }
   ],
   "source": [
    "lowered = [i.lower() for i in sentence] \n",
    "print(lowered)    "
   ]
  },
  {
   "cell_type": "code",
   "execution_count": 18,
   "metadata": {},
   "outputs": [
    {
     "name": "stdout",
     "output_type": "stream",
     "text": [
      "['both version convey topic pretty easy predict paragraph epidemiological evidence second version establishes argumentative point put context', 'the paragraph describe epidemiological evidence show epidemiology telling story etiology', 'similarly version a relate anything particular version b immediately suggests prior paragraph address biological pathway', 'etiology disease new paragraph bolster emerging hypothesis different kind evidence', 'as reader easy keep track paragraph cell chemical relates paragraph population different place', 'a last thing note key sentence academic reader expect beginning paragraph', 'the first sentence paragraph good example action', 'this placement help reader comprehend argument', 'to see try find academic piece textbook scholarly article strike well written go part reading first sentence paragraph', 'you able easily follow sequence logic', 'when writing professor especially effective put key sentence first usually convey original thinking', 'it good sign paragraph typically composed telling key sentence followed evidence explanation', 'knowing convention academic writing help read write effectively', 'when reading complicated academic piece first time might want go reading first sentence two paragraph get overall outline argument', 'then go back read clearer picture detail fit', 'and writing may also find useful write first sentence paragraph instead outline map thorough argument getting immersed wordsmithing']\n"
     ]
    }
   ],
   "source": [
    "for i in range(len(sentence)):\n",
    "    words = nltk.word_tokenize(sentence[i])\n",
    "    words=[word.lower() for word in words if word.isalpha()]\n",
    "    sentence[i] = ' '.join(words)\n",
    "\n",
    "print(sentence)\n"
   ]
  },
  {
   "cell_type": "markdown",
   "metadata": {},
   "source": [
    "# Bag of words"
   ]
  },
  {
   "cell_type": "code",
   "execution_count": 19,
   "metadata": {},
   "outputs": [],
   "source": [
    "paragraph = \"\"\"Both versions convey a topic; it’s pretty easy to predict that the paragraph will be about epidemiological \n",
    "evidence, but only the second version establishes an argumentative point and puts it in context. The paragraph doesn’t \n",
    "just describe the epidemiological evidence; it shows how epidemiology is telling the same story as etiology. Similarly, \n",
    "while Version A doesn’t relate to anything in particular, Version B immediately suggests that the prior paragraph addresses \n",
    "the biological pathway (i.e. etiology) of a disease and that the new paragraph will bolster the emerging hypothesis with a\n",
    "different kind of evidence. As a reader, it’s easy to keep track of how the paragraph about cells and chemicals and such \n",
    "relates to the paragraph about populations in different places. A last thing to note about key sentences is that academic \n",
    "readers expect them to be at the beginning of the paragraph. (The first sentence this paragraph is a good example of this \n",
    "in action!) This placement helps readers comprehend your argument. To see how, try this: find an academic piece (such as a \n",
    "textbook or scholarly article) that strikes you as well written and go through part of it reading just the first sentence of \n",
    "each paragraph. You should be able to easily follow the sequence of logic. When you’re writing for professors, it is especially \n",
    "effective to put your key sentences first because they usually convey your own original thinking. It’s a very good sign when\n",
    "your paragraphs are typically composed of a telling key sentence followed by evidence and explanation.\n",
    "Knowing this convention of academic writing can help you both read and write more effectively. When you’re reading a \n",
    "complicated academic piece for the first time, you might want to go through reading only the first sentence or two of each \n",
    "paragraph to get the overall outline of the argument. Then you can go back and read all of it with a clearer picture of how \n",
    "each of the details fit in. And when you’re writing, you may also find it useful to write the first sentence of each paragraph \n",
    "(instead of a topic-based outline) to map out a thorough argument before getting immersed in sentence-level wordsmithing.\"\"\""
   ]
  },
  {
   "cell_type": "code",
   "execution_count": 20,
   "metadata": {},
   "outputs": [],
   "source": [
    "# cleaning the data\n",
    "from nltk.stem import WordNetLemmatizer\n",
    "from nltk.corpus import stopwords\n",
    "from nltk.stem.porter import PorterStemmer \n",
    "import re\n",
    "\n"
   ]
  },
  {
   "cell_type": "code",
   "execution_count": 31,
   "metadata": {},
   "outputs": [
    {
     "name": "stdout",
     "output_type": "stream",
     "text": [
      "['Both versions convey a topic; it’s pretty easy to predict that the paragraph will be about epidemiological \\nevidence, but only the second version establishes an argumentative point and puts it in context.', 'The paragraph doesn’t \\njust describe the epidemiological evidence; it shows how epidemiology is telling the same story as etiology.', 'Similarly, \\nwhile Version A doesn’t relate to anything in particular, Version B immediately suggests that the prior paragraph addresses \\nthe biological pathway (i.e.', 'etiology) of a disease and that the new paragraph will bolster the emerging hypothesis with a\\ndifferent kind of evidence.', 'As a reader, it’s easy to keep track of how the paragraph about cells and chemicals and such \\nrelates to the paragraph about populations in different places.', 'A last thing to note about key sentences is that academic \\nreaders expect them to be at the beginning of the paragraph.', '(The first sentence this paragraph is a good example of this \\nin action!)', 'This placement helps readers comprehend your argument.', 'To see how, try this: find an academic piece (such as a \\ntextbook or scholarly article) that strikes you as well written and go through part of it reading just the first sentence of \\neach paragraph.', 'You should be able to easily follow the sequence of logic.', 'When you’re writing for professors, it is especially \\neffective to put your key sentences first because they usually convey your own original thinking.', 'It’s a very good sign when\\nyour paragraphs are typically composed of a telling key sentence followed by evidence and explanation.', 'Knowing this convention of academic writing can help you both read and write more effectively.', 'When you’re reading a \\ncomplicated academic piece for the first time, you might want to go through reading only the first sentence or two of each \\nparagraph to get the overall outline of the argument.', 'Then you can go back and read all of it with a clearer picture of how \\neach of the details fit in.', 'And when you’re writing, you may also find it useful to write the first sentence of each paragraph \\n(instead of a topic-based outline) to map out a thorough argument before getting immersed in sentence-level wordsmithing.']\n",
      "**************************************************\n",
      "['version convey topic pretty easy predict paragraph epidemiological evidence second version establishes argumentative point put context', 'paragraph describe epidemiological evidence show epidemiology telling story etiology', 'similarly version relate anything particular version b immediately suggests prior paragraph address biological pathway e', 'etiology disease new paragraph bolster emerging hypothesis different kind evidence', 'reader easy keep track paragraph cell chemical relates paragraph population different place', 'last thing note key sentence academic reader expect beginning paragraph', 'first sentence paragraph good example action', 'placement help reader comprehend argument', 'see try find academic piece textbook scholarly article strike well written go part reading first sentence paragraph', 'able easily follow sequence logic', 'writing professor especially effective put key sentence first usually convey original thinking', 'good sign paragraph typically composed telling key sentence followed evidence explanation', 'knowing convention academic writing help read write effectively', 'reading complicated academic piece first time might want go reading first sentence two paragraph get overall outline argument', 'go back read clearer picture detail fit', 'writing may also find useful write first sentence paragraph instead topic based outline map thorough argument getting immersed sentence level wordsmithing']\n"
     ]
    }
   ],
   "source": [
    "ps = PorterStemmer()\n",
    "wordnet = WordNetLemmatizer()\n",
    "sentence = nltk.sent_tokenize(paragraph)\n",
    "print(sentence)\n",
    "corpus = []\n",
    "for i in range(len(sentence)):\n",
    "    review = re.sub('[^a-zA-Z]',' ', sentence[i])\n",
    "    review = review.lower()\n",
    "    review = review.split()\n",
    "    review = [wordnet.lemmatize(word) for word in review if word not in set(stopwords.words('english'))]\n",
    "    review = \" \".join(review)\n",
    "    corpus.append(review)\n",
    "    \n",
    "print(50*'*')\n",
    "print(corpus)"
   ]
  },
  {
   "cell_type": "markdown",
   "metadata": {},
   "source": [
    "### Bag of words"
   ]
  },
  {
   "cell_type": "code",
   "execution_count": 33,
   "metadata": {},
   "outputs": [],
   "source": [
    "from sklearn.feature_extraction.text import CountVectorizer"
   ]
  },
  {
   "cell_type": "code",
   "execution_count": 37,
   "metadata": {},
   "outputs": [
    {
     "name": "stdout",
     "output_type": "stream",
     "text": [
      "(16, 121)\n"
     ]
    }
   ],
   "source": [
    "cv = CountVectorizer()\n",
    "x = cv.fit_transform(corpus).toarray()\n",
    "print(x.shape)\n"
   ]
  },
  {
   "cell_type": "markdown",
   "metadata": {},
   "source": [
    "### TF-IDF"
   ]
  },
  {
   "cell_type": "code",
   "execution_count": 38,
   "metadata": {},
   "outputs": [],
   "source": [
    "# cleaning the data\n",
    "from nltk.stem import WordNetLemmatizer\n",
    "from nltk.corpus import stopwords\n",
    "from nltk.stem.porter import PorterStemmer \n",
    "import re"
   ]
  },
  {
   "cell_type": "code",
   "execution_count": 40,
   "metadata": {},
   "outputs": [],
   "source": [
    "ps = PorterStemmer()\n",
    "wordnet = WordNetLemmatizer()\n",
    "sentence = nltk.sent_tokenize(paragraph)\n",
    "# print(sentence)\n",
    "corpus = []\n",
    "for i in range(len(sentence)):\n",
    "    review = re.sub('[^a-zA-Z]',' ', sentence[i])\n",
    "    review = review.lower()\n",
    "    review = review.split()\n",
    "    review = [wordnet.lemmatize(word) for word in review if word not in set(stopwords.words('english'))]\n",
    "    review = \" \".join(review)\n",
    "    corpus.append(review)"
   ]
  },
  {
   "cell_type": "code",
   "execution_count": 48,
   "metadata": {},
   "outputs": [
    {
     "name": "stdout",
     "output_type": "stream",
     "text": [
      "[[0.         0.         0.         ... 0.         0.         0.        ]\n",
      " [0.         0.         0.         ... 0.         0.         0.        ]\n",
      " [0.         0.         0.         ... 0.         0.         0.        ]\n",
      " ...\n",
      " [0.         0.1801516  0.         ... 0.         0.         0.        ]\n",
      " [0.         0.         0.         ... 0.         0.         0.        ]\n",
      " [0.         0.         0.         ... 0.21058114 0.18842785 0.        ]]\n"
     ]
    }
   ],
   "source": [
    "from sklearn.feature_extraction.text import TfidfVectorizer\n",
    "vectorizer = TfidfVectorizer()\n",
    "x = vectorizer.fit_transform(corpus).toarray()\n",
    "print(x)"
   ]
  },
  {
   "cell_type": "code",
   "execution_count": null,
   "metadata": {},
   "outputs": [],
   "source": []
  }
 ],
 "metadata": {
  "kernelspec": {
   "display_name": "Python 3",
   "language": "python",
   "name": "python3"
  },
  "language_info": {
   "codemirror_mode": {
    "name": "ipython",
    "version": 3
   },
   "file_extension": ".py",
   "mimetype": "text/x-python",
   "name": "python",
   "nbconvert_exporter": "python",
   "pygments_lexer": "ipython3",
   "version": "3.7.6"
  }
 },
 "nbformat": 4,
 "nbformat_minor": 4
}
